{
 "cells": [
  {
   "cell_type": "code",
   "execution_count": 84,
   "id": "ffd0e6ba-8068-44dd-8bc7-e1e396f5da86",
   "metadata": {},
   "outputs": [],
   "source": [
    "import numpy as np\n",
    "import os\n",
    "import pandas as pd\n",
    "import torch\n",
    "import albumentations as A\n",
    "import albumentations.pytorch\n",
    "import cv2\n",
    "import sys\n",
    "import random\n",
    "import csv\n",
    "import json\n",
    "import matplotlib.pyplot as plt\n",
    "\n",
    "import bisect\n",
    "import copy\n",
    "import math\n",
    "from collections import defaultdict\n",
    "from itertools import repeat, chain\n",
    "\n",
    "import numpy as np\n",
    "import torch\n",
    "import torch.utils.data\n",
    "import torchvision\n",
    "from PIL import Image\n",
    "from torch.utils.data.sampler import BatchSampler, Sampler\n",
    "from torch.utils.data import Dataset\n",
    "\n",
    "sys.path.append('../')\n",
    "from visualize import visualize\n",
    "from utils import *\n",
    "\n",
    "%matplotlib inline"
   ]
  },
  {
   "cell_type": "code",
   "execution_count": 2,
   "id": "34e2567c-ac73-4d1c-8900-6522727d3585",
   "metadata": {},
   "outputs": [
    {
     "data": {
      "text/plain": [
       "(24782, 14)"
      ]
     },
     "execution_count": 2,
     "metadata": {},
     "output_type": "execute_result"
    }
   ],
   "source": [
    "df = pd.read_csv('../saved/df.csv')\n",
    "df.shape"
   ]
  },
  {
   "cell_type": "code",
   "execution_count": 10,
   "id": "77fe0f8d-94d6-411e-a819-412622c1aded",
   "metadata": {},
   "outputs": [
    {
     "data": {
      "text/html": [
       "<div>\n",
       "<style scoped>\n",
       "    .dataframe tbody tr th:only-of-type {\n",
       "        vertical-align: middle;\n",
       "    }\n",
       "\n",
       "    .dataframe tbody tr th {\n",
       "        vertical-align: top;\n",
       "    }\n",
       "\n",
       "    .dataframe thead th {\n",
       "        text-align: right;\n",
       "    }\n",
       "</style>\n",
       "<table border=\"1\" class=\"dataframe\">\n",
       "  <thead>\n",
       "    <tr style=\"text-align: right;\">\n",
       "      <th></th>\n",
       "      <th>file_name</th>\n",
       "      <th>task</th>\n",
       "      <th>label</th>\n",
       "      <th>xmin</th>\n",
       "      <th>ymin</th>\n",
       "      <th>w</th>\n",
       "      <th>h</th>\n",
       "      <th>occluded</th>\n",
       "      <th>des</th>\n",
       "      <th>cell_type</th>\n",
       "      <th>bbox</th>\n",
       "      <th>area</th>\n",
       "      <th>ratio</th>\n",
       "      <th>ID</th>\n",
       "    </tr>\n",
       "  </thead>\n",
       "  <tbody>\n",
       "    <tr>\n",
       "      <th>0</th>\n",
       "      <td>patch_images/2021.01.14/LBC424-20210111(1)/LBC...</td>\n",
       "      <td>[AS6] LBC424</td>\n",
       "      <td>C</td>\n",
       "      <td>1539</td>\n",
       "      <td>199</td>\n",
       "      <td>139</td>\n",
       "      <td>211</td>\n",
       "      <td>0</td>\n",
       "      <td>NaN</td>\n",
       "      <td>ASC-US</td>\n",
       "      <td>[1539, 199, 139, 211]</td>\n",
       "      <td>171</td>\n",
       "      <td>0.811645</td>\n",
       "      <td>0</td>\n",
       "    </tr>\n",
       "    <tr>\n",
       "      <th>1</th>\n",
       "      <td>patch_images/2021.01.14/LBC424-20210111(1)/LBC...</td>\n",
       "      <td>[AS6] LBC424</td>\n",
       "      <td>AS</td>\n",
       "      <td>1337</td>\n",
       "      <td>102</td>\n",
       "      <td>256</td>\n",
       "      <td>136</td>\n",
       "      <td>0</td>\n",
       "      <td>NaN</td>\n",
       "      <td>ASC-US</td>\n",
       "      <td>[1337, 102, 256, 136]</td>\n",
       "      <td>186</td>\n",
       "      <td>1.371989</td>\n",
       "      <td>1</td>\n",
       "    </tr>\n",
       "    <tr>\n",
       "      <th>2</th>\n",
       "      <td>patch_images/2021.01.14/LBC424-20210111(1)/LBC...</td>\n",
       "      <td>[AS6] LBC424</td>\n",
       "      <td>AS</td>\n",
       "      <td>220</td>\n",
       "      <td>619</td>\n",
       "      <td>166</td>\n",
       "      <td>169</td>\n",
       "      <td>0</td>\n",
       "      <td>NaN</td>\n",
       "      <td>ASC-US</td>\n",
       "      <td>[220, 619, 166, 169]</td>\n",
       "      <td>167</td>\n",
       "      <td>0.991085</td>\n",
       "      <td>2</td>\n",
       "    </tr>\n",
       "    <tr>\n",
       "      <th>3</th>\n",
       "      <td>patch_images/2021.01.14/LBC424-20210111(1)/LBC...</td>\n",
       "      <td>[AS6] LBC424</td>\n",
       "      <td>AS</td>\n",
       "      <td>658</td>\n",
       "      <td>1747</td>\n",
       "      <td>191</td>\n",
       "      <td>166</td>\n",
       "      <td>0</td>\n",
       "      <td>NaN</td>\n",
       "      <td>ASC-US</td>\n",
       "      <td>[658, 1747, 191, 166]</td>\n",
       "      <td>178</td>\n",
       "      <td>1.072661</td>\n",
       "      <td>3</td>\n",
       "    </tr>\n",
       "    <tr>\n",
       "      <th>4</th>\n",
       "      <td>patch_images/2021.01.14/LBC424-20210111(1)/LBC...</td>\n",
       "      <td>[AS6] LBC424</td>\n",
       "      <td>AS</td>\n",
       "      <td>1571</td>\n",
       "      <td>365</td>\n",
       "      <td>136</td>\n",
       "      <td>146</td>\n",
       "      <td>0</td>\n",
       "      <td>NaN</td>\n",
       "      <td>ASC-US</td>\n",
       "      <td>[1571, 365, 136, 146]</td>\n",
       "      <td>140</td>\n",
       "      <td>0.965146</td>\n",
       "      <td>4</td>\n",
       "    </tr>\n",
       "  </tbody>\n",
       "</table>\n",
       "</div>"
      ],
      "text/plain": [
       "                                           file_name          task label  \\\n",
       "0  patch_images/2021.01.14/LBC424-20210111(1)/LBC...  [AS6] LBC424     C   \n",
       "1  patch_images/2021.01.14/LBC424-20210111(1)/LBC...  [AS6] LBC424    AS   \n",
       "2  patch_images/2021.01.14/LBC424-20210111(1)/LBC...  [AS6] LBC424    AS   \n",
       "3  patch_images/2021.01.14/LBC424-20210111(1)/LBC...  [AS6] LBC424    AS   \n",
       "4  patch_images/2021.01.14/LBC424-20210111(1)/LBC...  [AS6] LBC424    AS   \n",
       "\n",
       "   xmin  ymin    w    h  occluded  des cell_type                   bbox  area  \\\n",
       "0  1539   199  139  211         0  NaN    ASC-US  [1539, 199, 139, 211]   171   \n",
       "1  1337   102  256  136         0  NaN    ASC-US  [1337, 102, 256, 136]   186   \n",
       "2   220   619  166  169         0  NaN    ASC-US   [220, 619, 166, 169]   167   \n",
       "3   658  1747  191  166         0  NaN    ASC-US  [658, 1747, 191, 166]   178   \n",
       "4  1571   365  136  146         0  NaN    ASC-US  [1571, 365, 136, 146]   140   \n",
       "\n",
       "      ratio  ID  \n",
       "0  0.811645   0  \n",
       "1  1.371989   1  \n",
       "2  0.991085   2  \n",
       "3  1.072661   3  \n",
       "4  0.965146   4  "
      ]
     },
     "execution_count": 10,
     "metadata": {},
     "output_type": "execute_result"
    }
   ],
   "source": [
    "df.head()"
   ]
  },
  {
   "cell_type": "code",
   "execution_count": 3,
   "id": "8253951f-8cae-4c12-9578-7dc55b5e5acf",
   "metadata": {},
   "outputs": [],
   "source": [
    "class MyDataset:\n",
    "    def __init__(self, df):\n",
    "        self.df = df\n",
    "    \n",
    "    def __getitem__(self, i):\n",
    "        return self.df.loc[i]['area']\n",
    "    \n",
    "    def __len__(self):\n",
    "        return len(self.df)"
   ]
  },
  {
   "cell_type": "code",
   "execution_count": 4,
   "id": "e5d5a422-7dec-4595-828d-5ae755c050a4",
   "metadata": {},
   "outputs": [],
   "source": [
    "dataset = MyDataset(df)"
   ]
  },
  {
   "cell_type": "code",
   "execution_count": 9,
   "id": "891607f3-be0e-4710-b89f-7c5d1bf97e55",
   "metadata": {},
   "outputs": [
    {
     "data": {
      "text/plain": [
       "186"
      ]
     },
     "execution_count": 9,
     "metadata": {},
     "output_type": "execute_result"
    }
   ],
   "source": [
    "dataset[1]"
   ]
  },
  {
   "cell_type": "code",
   "execution_count": 113,
   "id": "7e1810aa-6182-4b22-a52e-99e96d893ae0",
   "metadata": {},
   "outputs": [],
   "source": [
    "areas = df.area\n",
    "bins = [100, 140, 200, 300]"
   ]
  },
  {
   "cell_type": "code",
   "execution_count": 114,
   "id": "fbab4d76-904f-4697-8b13-9007856ddeaa",
   "metadata": {},
   "outputs": [],
   "source": [
    "def _quantize(x, bins):\n",
    "    bins = copy.deepcopy(bins)\n",
    "    bins = sorted(bins)\n",
    "    quantized = list(map(lambda y: bisect.bisect_right(bins, y), x))\n",
    "    return quantized"
   ]
  },
  {
   "cell_type": "code",
   "execution_count": 115,
   "id": "50b55dcd-1957-4ace-8b09-9cb0d3ebafad",
   "metadata": {},
   "outputs": [],
   "source": [
    "groups = _quantize(areas, bins)"
   ]
  },
  {
   "cell_type": "code",
   "execution_count": 116,
   "id": "79bf0d94-304c-4c38-a693-544e5f315286",
   "metadata": {},
   "outputs": [
    {
     "data": {
      "text/plain": [
       "{0, 1, 2, 3, 4}"
      ]
     },
     "execution_count": 116,
     "metadata": {},
     "output_type": "execute_result"
    }
   ],
   "source": [
    "set(groups)"
   ]
  },
  {
   "cell_type": "code",
   "execution_count": 117,
   "id": "80d13ed2-8d68-4134-906d-af85d14ba893",
   "metadata": {},
   "outputs": [
    {
     "data": {
      "text/plain": [
       "array([2892, 5588, 8443, 5665, 2194])"
      ]
     },
     "execution_count": 117,
     "metadata": {},
     "output_type": "execute_result"
    }
   ],
   "source": [
    "counts = np.unique(groups, return_counts=True)[1]\n",
    "counts"
   ]
  },
  {
   "cell_type": "code",
   "execution_count": 60,
   "id": "6a3b9e81-da58-479a-a1be-8e8ae96045cb",
   "metadata": {},
   "outputs": [
    {
     "data": {
      "text/plain": [
       "[0, 120, 170, 250, inf]"
      ]
     },
     "execution_count": 60,
     "metadata": {},
     "output_type": "execute_result"
    }
   ],
   "source": [
    "fbins = [0] + bins + [np.inf]\n",
    "fbins"
   ]
  },
  {
   "cell_type": "code",
   "execution_count": null,
   "id": "694dd3dd-5f37-46bc-ad95-b974f735ed44",
   "metadata": {},
   "outputs": [],
   "source": []
  },
  {
   "cell_type": "code",
   "execution_count": 32,
   "id": "e4ca4723-519c-4e96-a975-60a84f9f47d3",
   "metadata": {},
   "outputs": [
    {
     "data": {
      "text/plain": [
       "{0, 1}"
      ]
     },
     "execution_count": 32,
     "metadata": {},
     "output_type": "execute_result"
    }
   ],
   "source": [
    "areas = df.area\n",
    "bins = [180]\n",
    "groups = _quantize(areas, bins)\n",
    "set(groups)"
   ]
  },
  {
   "cell_type": "code",
   "execution_count": 33,
   "id": "4073160a-c565-4c4c-8453-cc3267792fc4",
   "metadata": {},
   "outputs": [
    {
     "data": {
      "text/plain": [
       "array([14541, 10241])"
      ]
     },
     "execution_count": 33,
     "metadata": {},
     "output_type": "execute_result"
    }
   ],
   "source": [
    "counts = np.unique(groups, return_counts=True)[1]\n",
    "counts"
   ]
  },
  {
   "cell_type": "code",
   "execution_count": null,
   "id": "21d10a98-0f7f-4dc5-866f-2783a3a92077",
   "metadata": {},
   "outputs": [],
   "source": []
  },
  {
   "cell_type": "code",
   "execution_count": null,
   "id": "a84274cf-df80-479b-8b36-2d2bc6b3ee47",
   "metadata": {},
   "outputs": [],
   "source": []
  },
  {
   "cell_type": "code",
   "execution_count": 85,
   "id": "3e9e534a-9ab0-4b0c-a80e-c225a7553041",
   "metadata": {},
   "outputs": [],
   "source": [
    "# https://stackoverflow.com/questions/68782144/pytorch-can-i-group-batches-by-length\n",
    "class DS(Dataset):\n",
    "    def __init__(self, files):\n",
    "        super().__init__()\n",
    "        self.len = len(files)\n",
    "        self.files = files\n",
    "\n",
    "    def __getitem__(self, index):\n",
    "        return self.files[index]\n",
    "\n",
    "    def __len__(self):\n",
    "        return self.len"
   ]
  },
  {
   "cell_type": "code",
   "execution_count": 86,
   "id": "45f98125-6be2-436e-b008-cc9931619d1e",
   "metadata": {},
   "outputs": [],
   "source": [
    "file_len = np.random.randint(0, 100, (16*6))\n",
    "files = [np.random.rand(s) for s in file_len]\n",
    "ds = DS(files)"
   ]
  },
  {
   "cell_type": "code",
   "execution_count": 92,
   "id": "6ba9b79e-e949-463f-bfaf-984e0b2f6c83",
   "metadata": {},
   "outputs": [
    {
     "data": {
      "text/plain": [
       "array([0.2055477 , 0.57434555, 0.71370411, 0.85958713, 0.61770843,\n",
       "       0.40486959, 0.78779201, 0.65046251, 0.51110209, 0.97244704,\n",
       "       0.75316285, 0.21871491, 0.83272943, 0.61343948, 0.72190206,\n",
       "       0.97705977, 0.74047199, 0.56858119, 0.29906154, 0.73553948,\n",
       "       0.29797852, 0.75791858, 0.33054886, 0.62545127, 0.27807226,\n",
       "       0.8301604 , 0.55101312, 0.88531032, 0.55043899, 0.9917991 ,\n",
       "       0.59397518, 0.46668368, 0.20461569, 0.08638541, 0.87828026,\n",
       "       0.9268614 , 0.21051897, 0.38086242, 0.42916876, 0.1750903 ,\n",
       "       0.91178358, 0.33666994, 0.69793785, 0.18797078, 0.21452113,\n",
       "       0.39479421, 0.22719111, 0.35459336, 0.56241222, 0.91490426,\n",
       "       0.42528208, 0.31693724, 0.78183943, 0.66702575, 0.94409075])"
      ]
     },
     "execution_count": 92,
     "metadata": {},
     "output_type": "execute_result"
    }
   ],
   "source": [
    "ds[0]"
   ]
  },
  {
   "cell_type": "code",
   "execution_count": 104,
   "id": "985a4363-fea8-4c34-a532-cbe25ca68991",
   "metadata": {},
   "outputs": [
    {
     "data": {
      "text/plain": [
       "array([55, 83, 94, 38, 55, 32, 25, 39, 39, 73, 45, 24, 90,  4, 47, 69, 71,\n",
       "       65, 22, 78, 47, 61,  9, 77, 77, 41, 75, 39, 54, 23, 38, 38,  1, 59,\n",
       "       22, 95, 61, 14, 62,  5, 70, 87,  7,  7, 60, 72, 73, 72, 18, 53, 74,\n",
       "        6, 92, 97, 11, 36, 78, 49, 30, 66, 36,  1, 87, 73, 25, 82, 67, 61,\n",
       "       29, 44, 80,  5, 80, 43, 93, 56, 24, 18, 31, 19, 47, 38, 29, 77, 81,\n",
       "       96, 64, 91, 33, 51, 36, 44, 90, 19, 99, 91])"
      ]
     },
     "execution_count": 104,
     "metadata": {},
     "output_type": "execute_result"
    }
   ],
   "source": [
    "file_len"
   ]
  },
  {
   "cell_type": "code",
   "execution_count": 107,
   "id": "193e1428-49fb-4d79-86c6-43ab070cc680",
   "metadata": {},
   "outputs": [
    {
     "data": {
      "text/plain": [
       "array([94, 53, 85, 35,  2, 74, 52, 87, 95, 12, 92, 41, 62,  1, 65, 84, 72,\n",
       "       70, 19, 56, 23, 83, 24, 26, 50, 46,  9, 63, 45, 47, 16, 40, 15, 66,\n",
       "       59, 17, 86, 38, 67, 21, 36, 44, 33, 75,  4,  0, 28, 49, 89, 57, 20,\n",
       "       80, 14, 10, 69, 91, 73, 25,  8, 27,  7, 31, 30,  3, 81, 60, 55, 90,\n",
       "       88,  5, 78, 58, 68, 82, 64,  6, 76, 11, 29, 18, 34, 79, 93, 48, 77,\n",
       "       37, 54, 22, 42, 43, 51, 71, 39, 13, 61, 32])"
      ]
     },
     "execution_count": 107,
     "metadata": {},
     "output_type": "execute_result"
    }
   ],
   "source": [
    "# sort and return sorted index\n",
    "file_len.argsort()[::-1]"
   ]
  },
  {
   "cell_type": "code",
   "execution_count": 93,
   "id": "34d1034f-b343-45b0-972a-a871e67c537b",
   "metadata": {},
   "outputs": [],
   "source": [
    "batch_size = 16\n",
    "batches = np.split(file_len.argsort()[::-1], batch_size)"
   ]
  },
  {
   "cell_type": "code",
   "execution_count": 97,
   "id": "7036b678-f50a-4f63-9ffa-112fdd076daa",
   "metadata": {},
   "outputs": [
    {
     "data": {
      "text/plain": [
       "[array([94, 53, 85, 35,  2, 74]),\n",
       " array([52, 87, 95, 12, 92, 41]),\n",
       " array([62,  1, 65, 84, 72, 70]),\n",
       " array([19, 56, 23, 83, 24, 26]),\n",
       " array([50, 46,  9, 63, 45, 47]),\n",
       " array([16, 40, 15, 66, 59, 17]),\n",
       " array([86, 38, 67, 21, 36, 44]),\n",
       " array([33, 75,  4,  0, 28, 49]),\n",
       " array([89, 57, 20, 80, 14, 10]),\n",
       " array([69, 91, 73, 25,  8, 27]),\n",
       " array([ 7, 31, 30,  3, 81, 60]),\n",
       " array([55, 90, 88,  5, 78, 58]),\n",
       " array([68, 82, 64,  6, 76, 11]),\n",
       " array([29, 18, 34, 79, 93, 48]),\n",
       " array([77, 37, 54, 22, 42, 43]),\n",
       " array([51, 71, 39, 13, 61, 32])]"
      ]
     },
     "execution_count": 97,
     "metadata": {},
     "output_type": "execute_result"
    }
   ],
   "source": [
    "batches"
   ]
  },
  {
   "cell_type": "code",
   "execution_count": 98,
   "id": "704d37ca-0e04-4447-b96a-b12f0cdb733b",
   "metadata": {},
   "outputs": [],
   "source": [
    "def collate_fn(batch):\n",
    "    longest = max([len(x) for x in batch])\n",
    "    s = np.stack([np.pad(x, (0, longest - len(x))) for x in batch])\n",
    "    return torch.from_numpy(s)"
   ]
  },
  {
   "cell_type": "code",
   "execution_count": 100,
   "id": "ebc7767b-3588-4c4c-b445-677f9518a082",
   "metadata": {},
   "outputs": [],
   "source": [
    "dl = torch.utils.data.DataLoader(dataset=ds, batch_sampler=batches, collate_fn=collate_fn)"
   ]
  },
  {
   "cell_type": "code",
   "execution_count": 102,
   "id": "7de1078d-264f-4f55-9a7a-0c5d4027a726",
   "metadata": {},
   "outputs": [
    {
     "name": "stdout",
     "output_type": "stream",
     "text": [
      "torch.Size([6, 99])\n",
      "torch.Size([6, 92])\n",
      "torch.Size([6, 87])\n",
      "torch.Size([6, 78])\n",
      "torch.Size([6, 74])\n",
      "torch.Size([6, 71])\n",
      "torch.Size([6, 64])\n",
      "torch.Size([6, 59])\n",
      "torch.Size([6, 51])\n",
      "torch.Size([6, 44])\n",
      "torch.Size([6, 39])\n",
      "torch.Size([6, 36])\n",
      "torch.Size([6, 29])\n",
      "torch.Size([6, 23])\n",
      "torch.Size([6, 18])\n",
      "torch.Size([6, 6])\n"
     ]
    }
   ],
   "source": [
    "for x in dl:\n",
    "    print(x.shape)"
   ]
  },
  {
   "cell_type": "code",
   "execution_count": null,
   "id": "c28bd288-1059-44a1-95c5-161944f9c37f",
   "metadata": {},
   "outputs": [],
   "source": []
  }
 ],
 "metadata": {
  "kernelspec": {
   "display_name": "pytorch",
   "language": "python",
   "name": "pytorch"
  },
  "language_info": {
   "codemirror_mode": {
    "name": "ipython",
    "version": 3
   },
   "file_extension": ".py",
   "mimetype": "text/x-python",
   "name": "python",
   "nbconvert_exporter": "python",
   "pygments_lexer": "ipython3",
   "version": "3.7.9"
  }
 },
 "nbformat": 4,
 "nbformat_minor": 5
}
