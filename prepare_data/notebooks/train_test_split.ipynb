{
 "cells": [
  {
   "cell_type": "code",
   "execution_count": 92,
   "id": "30cedfba-786f-4ea0-b142-8cdd6836c0c6",
   "metadata": {},
   "outputs": [],
   "source": [
    "import numpy as np\n",
    "import os\n",
    "import pandas as pd\n",
    "import torch\n",
    "import albumentations as A\n",
    "import albumentations.pytorch\n",
    "import cv2\n",
    "import sys\n",
    "import random\n",
    "import csv\n",
    "import json\n",
    "import matplotlib.pyplot as plt\n",
    "\n",
    "sys.path.append('../')\n",
    "from visualize import visualize\n",
    "from utils import *\n",
    "\n",
    "%matplotlib inline"
   ]
  },
  {
   "cell_type": "code",
   "execution_count": 93,
   "id": "bef2243e-ed2b-46af-ad4f-3e386f46dc5d",
   "metadata": {},
   "outputs": [
    {
     "data": {
      "text/plain": [
       "(24782, 14)"
      ]
     },
     "execution_count": 93,
     "metadata": {},
     "output_type": "execute_result"
    }
   ],
   "source": [
    "df = pd.read_csv('../saved/df.csv')\n",
    "df.shape"
   ]
  },
  {
   "cell_type": "code",
   "execution_count": 94,
   "id": "a815c4ad-3533-416f-ba24-b9e43cb29e5d",
   "metadata": {},
   "outputs": [],
   "source": [
    "train = pd.read_csv('../saved/train.csv')\n",
    "test = pd.read_csv('../saved/test.csv')"
   ]
  },
  {
   "cell_type": "code",
   "execution_count": 98,
   "id": "23b41845-cccf-490f-afa8-018e63ed51d4",
   "metadata": {},
   "outputs": [
    {
     "name": "stdout",
     "output_type": "stream",
     "text": [
      "(17120, 14)\n",
      "(17120, 14)\n",
      "(5523, 14)\n",
      "(5523, 14)\n"
     ]
    }
   ],
   "source": [
    "print(train.shape)\n",
    "print(train.drop_duplicates().shape)\n",
    "\n",
    "print(test.shape)\n",
    "print(test.drop_duplicates().shape)"
   ]
  },
  {
   "cell_type": "code",
   "execution_count": 3,
   "id": "7e08a5b0-2007-4bb4-80c4-ca9d2b73f672",
   "metadata": {},
   "outputs": [
    {
     "data": {
      "text/plain": [
       "AS                           6562\n",
       "Negative                     4468\n",
       "LS                           3083\n",
       "ASC-US                       2897\n",
       "LSIL                         1689\n",
       "ASC-US with HPV infection    1603\n",
       "AH                            962\n",
       "HS                            667\n",
       "HSIL                          548\n",
       "C                             527\n",
       "LSIL with HPV infection       479\n",
       "Candida                       402\n",
       "N - Endocervical Cell         306\n",
       "ASC-H                         263\n",
       "HSIL with HPV infection       142\n",
       "HN                            102\n",
       "Benign atypia                  46\n",
       "Carcinoma                      18\n",
       "H                               9\n",
       "판독불가                            4\n",
       "ASCUS-SIL                       2\n",
       "N - Endometrial cell            1\n",
       "ASC-H with HPV infection        1\n",
       "SC                              1\n",
       "Name: label, dtype: int64"
      ]
     },
     "execution_count": 3,
     "metadata": {},
     "output_type": "execute_result"
    }
   ],
   "source": [
    "df.label.value_counts()"
   ]
  },
  {
   "cell_type": "code",
   "execution_count": 4,
   "id": "61fe0d67-68aa-47d2-bb0f-4f02e8b879d8",
   "metadata": {},
   "outputs": [
    {
     "name": "stdout",
     "output_type": "stream",
     "text": [
      "(24782, 14)\n",
      "(22662, 14)\n"
     ]
    }
   ],
   "source": [
    "print(df.shape)\n",
    "df['label'] = df.label.apply(lambda x : CLASS_MAPPER[str(x)])\n",
    "df = drop_wrong(df)\n",
    "df.reset_index(drop=True, inplace=True)\n",
    "print(df.shape)"
   ]
  },
  {
   "cell_type": "code",
   "execution_count": 5,
   "id": "bff10796-0238-4c83-96e7-3dd98538f6f4",
   "metadata": {},
   "outputs": [
    {
     "data": {
      "text/plain": [
       "ASC-US       11057\n",
       "LSIL          5248\n",
       "Negative      3647\n",
       "HSIL          1466\n",
       "ASC-H         1225\n",
       "Carcinoma       19\n",
       "Name: label, dtype: int64"
      ]
     },
     "execution_count": 5,
     "metadata": {},
     "output_type": "execute_result"
    }
   ],
   "source": [
    "df.label.value_counts()"
   ]
  },
  {
   "cell_type": "code",
   "execution_count": 6,
   "id": "92029a08-1c1a-49f9-a1a5-08ea4dfcf123",
   "metadata": {},
   "outputs": [
    {
     "name": "stdout",
     "output_type": "stream",
     "text": [
      "22662 22662\n"
     ]
    }
   ],
   "source": [
    "columns = 'label'\n",
    "all_size = len(df)\n",
    "ascus_df = df[df[columns]=='ASC-US']\n",
    "asch_df = df[df[columns]=='ASC-H']\n",
    "neg_df = df[df[columns]=='Negative']\n",
    "hsil_df = df[df[columns]=='HSIL']\n",
    "lsil_df = df[df[columns]=='LSIL']\n",
    "carcinoma_df = df[df[columns]=='Carcinoma']\n",
    "sum_partial = len(ascus_df) + len(asch_df) + len(neg_df) + len(hsil_df) + len(lsil_df) + len(carcinoma_df)\n",
    "print(all_size, sum_partial)"
   ]
  },
  {
   "cell_type": "code",
   "execution_count": null,
   "id": "a1a42c68-bb72-4e20-a09a-642f9cd45e3d",
   "metadata": {},
   "outputs": [],
   "source": []
  },
  {
   "cell_type": "code",
   "execution_count": 7,
   "id": "c88c1cae-fb8d-4374-a26b-e2a265cf50e3",
   "metadata": {},
   "outputs": [],
   "source": [
    "def split_by_group(df, ratio, seed ) :\n",
    "    train_inds, test_inds = next(GroupShuffleSplit(test_size=ratio,\n",
    "                                                   train_size=(1-ratio),\n",
    "                                                    n_splits=10, \n",
    "                                                    random_state = seed).split(df, groups=df['task']))\n",
    "    return train_inds, test_inds"
   ]
  },
  {
   "cell_type": "code",
   "execution_count": 8,
   "id": "47cc2dac-f74a-474b-af49-98d71e8bedd1",
   "metadata": {},
   "outputs": [],
   "source": [
    "train_li = []\n",
    "test_li = []\n",
    "ratio = 0.25\n",
    "seed = 0\n",
    "\n",
    "for tdf in list([ascus_df, asch_df, neg_df, hsil_df, lsil_df]) :\n",
    "    tr_inds, te_inds = split_by_group(tdf, ratio, seed)\n",
    "    temp_tr = tdf.iloc[tr_inds]\n",
    "    temp_te = tdf.iloc[te_inds]\n",
    "    train_li.append(temp_tr)\n",
    "    test_li.append(temp_te)\n",
    "train_df = pd.concat(train_li)\n",
    "test_df = pd.concat(test_li)"
   ]
  },
  {
   "cell_type": "code",
   "execution_count": 9,
   "id": "ceb64f8d-d546-4c51-837c-90d5e47e8a7f",
   "metadata": {},
   "outputs": [
    {
     "data": {
      "text/plain": [
       "{'ASC-US': 7093, 'LSIL': 3485, 'Negative': 2713, 'HSIL': 1097, 'ASC-H': 798}"
      ]
     },
     "execution_count": 9,
     "metadata": {},
     "output_type": "execute_result"
    }
   ],
   "source": [
    "train_dict = (train_df.label.value_counts()).to_dict()\n",
    "train_dict"
   ]
  },
  {
   "cell_type": "code",
   "execution_count": 10,
   "id": "55e3c585-0645-4f0a-bb8e-244ab9c757f3",
   "metadata": {},
   "outputs": [
    {
     "data": {
      "text/plain": [
       "{'ASC-US': 3964, 'LSIL': 1763, 'Negative': 934, 'ASC-H': 427, 'HSIL': 369}"
      ]
     },
     "execution_count": 10,
     "metadata": {},
     "output_type": "execute_result"
    }
   ],
   "source": [
    "test_dict = test_df.label.value_counts().to_dict()\n",
    "test_dict"
   ]
  },
  {
   "cell_type": "code",
   "execution_count": 11,
   "id": "068c695e-7f61-4367-aa4e-db1349b576eb",
   "metadata": {},
   "outputs": [],
   "source": [
    "ratio_dict = {}\n",
    "for la in train_dict.keys() :\n",
    "    ratio_dict[la] = float(test_dict[la]/(train_dict[la]+test_dict[la]))"
   ]
  },
  {
   "cell_type": "code",
   "execution_count": 12,
   "id": "91e5fc7e-58c4-43bc-afc6-333f2f3eca82",
   "metadata": {},
   "outputs": [
    {
     "data": {
      "text/plain": [
       "{'ASC-US': 0.3585059238491453,\n",
       " 'LSIL': 0.3359375,\n",
       " 'Negative': 0.2561009048533041,\n",
       " 'HSIL': 0.25170532060027284,\n",
       " 'ASC-H': 0.3485714285714286}"
      ]
     },
     "execution_count": 12,
     "metadata": {},
     "output_type": "execute_result"
    }
   ],
   "source": [
    "ratio_dict"
   ]
  },
  {
   "cell_type": "code",
   "execution_count": 13,
   "id": "12891ee5-48ef-42fc-95ec-947877696c3e",
   "metadata": {},
   "outputs": [
    {
     "data": {
      "text/html": [
       "<div>\n",
       "<style scoped>\n",
       "    .dataframe tbody tr th:only-of-type {\n",
       "        vertical-align: middle;\n",
       "    }\n",
       "\n",
       "    .dataframe tbody tr th {\n",
       "        vertical-align: top;\n",
       "    }\n",
       "\n",
       "    .dataframe thead th {\n",
       "        text-align: right;\n",
       "    }\n",
       "</style>\n",
       "<table border=\"1\" class=\"dataframe\">\n",
       "  <thead>\n",
       "    <tr style=\"text-align: right;\">\n",
       "      <th></th>\n",
       "      <th>ratio</th>\n",
       "    </tr>\n",
       "  </thead>\n",
       "  <tbody>\n",
       "    <tr>\n",
       "      <th>ASC-US</th>\n",
       "      <td>0.358506</td>\n",
       "    </tr>\n",
       "    <tr>\n",
       "      <th>LSIL</th>\n",
       "      <td>0.335938</td>\n",
       "    </tr>\n",
       "    <tr>\n",
       "      <th>Negative</th>\n",
       "      <td>0.256101</td>\n",
       "    </tr>\n",
       "    <tr>\n",
       "      <th>HSIL</th>\n",
       "      <td>0.251705</td>\n",
       "    </tr>\n",
       "    <tr>\n",
       "      <th>ASC-H</th>\n",
       "      <td>0.348571</td>\n",
       "    </tr>\n",
       "  </tbody>\n",
       "</table>\n",
       "</div>"
      ],
      "text/plain": [
       "             ratio\n",
       "ASC-US    0.358506\n",
       "LSIL      0.335938\n",
       "Negative  0.256101\n",
       "HSIL      0.251705\n",
       "ASC-H     0.348571"
      ]
     },
     "execution_count": 13,
     "metadata": {},
     "output_type": "execute_result"
    }
   ],
   "source": [
    "ratio_df = pd.DataFrame.from_dict(ratio_dict, 'index', columns=['ratio'])\n",
    "ratio_df"
   ]
  },
  {
   "cell_type": "code",
   "execution_count": 14,
   "id": "bedb6cd3-bc2f-440a-ba0f-4d5b4e95a241",
   "metadata": {},
   "outputs": [
    {
     "data": {
      "text/plain": [
       "<AxesSubplot:>"
      ]
     },
     "execution_count": 14,
     "metadata": {},
     "output_type": "execute_result"
    },
    {
     "data": {
      "image/png": "[encoded data removed]",
      "text/plain": [
       "<Figure size 432x288 with 1 Axes>"
      ]
     },
     "metadata": {
      "needs_background": "light"
     },
     "output_type": "display_data"
    }
   ],
   "source": [
    "ratio_df.plot.bar()"
   ]
  },
  {
   "cell_type": "code",
   "execution_count": null,
   "id": "3e22d438-f671-4f0e-b586-08e65f8f642f",
   "metadata": {},
   "outputs": [],
   "source": []
  },
  {
   "cell_type": "code",
   "execution_count": null,
   "id": "b2e0d132-e431-47c2-8f24-838eb002c1e1",
   "metadata": {},
   "outputs": [],
   "source": []
  },
  {
   "cell_type": "code",
   "execution_count": 23,
   "id": "952d2ac3-a3ef-4c8e-8c50-a637292e4229",
   "metadata": {},
   "outputs": [],
   "source": [
    "import pandas as pd\n",
    "\n",
    "df = pd.DataFrame(\n",
    "    {\n",
    "        \"x\": [10, 20, 30, 40, 50, 60, 70, 80, 90, 100, 110, 120],\n",
    "        \"id\": [1, 1, 1, 1, 2, 2, 3, 3, 4, 4, 5, 5],\n",
    "        \"label\": [\"a\", \"a\", \"a\", \"b\", \"a\", \"b\", \"b\", \"b\", \"a\", \"b\", \"a\", \"b\"],\n",
    "    }\n",
    ")"
   ]
  },
  {
   "cell_type": "code",
   "execution_count": 24,
   "id": "2882cbfc-747f-4ce9-9774-72869ca8aacf",
   "metadata": {},
   "outputs": [
    {
     "name": "stdout",
     "output_type": "stream",
     "text": [
      "[1 2 3 4 5]\n",
      "3\n",
      "\n",
      "TRAIN DATAFRAME\n",
      "      x  id label\n",
      "0   20   1     a\n",
      "2   50   2     a\n",
      "4   30   1     a\n",
      "6   60   2     b\n",
      "7   70   3     b\n",
      "8   10   1     a\n",
      "10  80   3     b\n",
      "11  40   1     b\n",
      "\n",
      "TEST DATAFRAME\n",
      "      x  id label\n",
      "1  120   5     b\n",
      "3  110   5     a\n",
      "5  100   4     b\n",
      "9   90   4     a\n"
     ]
    }
   ],
   "source": [
    "TRAIN_TEST_SPLIT_PERC = 0.75\n",
    "uniques = df[\"id\"].unique()\n",
    "print(uniques)\n",
    "sep = int(len(uniques) * TRAIN_TEST_SPLIT_PERC)\n",
    "print(sep)\n",
    "df = df.sample(frac=1).reset_index(drop=True) #For shuffling your data\n",
    "train_ids, test_ids = uniques[:sep], uniques[sep:]\n",
    "train_df, test_df = df[df.id.isin(train_ids)], df[df.id.isin(test_ids)]\n",
    "\n",
    "\n",
    "print(\"\\nTRAIN DATAFRAME\\n\", train_df)\n",
    "print(\"\\nTEST DATAFRAME\\n\", test_df)"
   ]
  },
  {
   "cell_type": "code",
   "execution_count": null,
   "id": "f8751112-3a1b-405e-8d03-05a1a1e4fad4",
   "metadata": {},
   "outputs": [],
   "source": []
  },
  {
   "cell_type": "code",
   "execution_count": 26,
   "id": "dc6ce82e-3c5c-46b9-bb16-854b02800d4d",
   "metadata": {},
   "outputs": [
    {
     "data": {
      "text/html": [
       "<div>\n",
       "<style scoped>\n",
       "    .dataframe tbody tr th:only-of-type {\n",
       "        vertical-align: middle;\n",
       "    }\n",
       "\n",
       "    .dataframe tbody tr th {\n",
       "        vertical-align: top;\n",
       "    }\n",
       "\n",
       "    .dataframe thead th {\n",
       "        text-align: right;\n",
       "    }\n",
       "</style>\n",
       "<table border=\"1\" class=\"dataframe\">\n",
       "  <thead>\n",
       "    <tr style=\"text-align: right;\">\n",
       "      <th></th>\n",
       "      <th>file_name</th>\n",
       "      <th>task</th>\n",
       "      <th>label</th>\n",
       "      <th>xmin</th>\n",
       "      <th>ymin</th>\n",
       "      <th>w</th>\n",
       "      <th>h</th>\n",
       "      <th>occluded</th>\n",
       "      <th>des</th>\n",
       "      <th>cell_type</th>\n",
       "      <th>bbox</th>\n",
       "      <th>area</th>\n",
       "      <th>ratio</th>\n",
       "      <th>ID</th>\n",
       "    </tr>\n",
       "  </thead>\n",
       "  <tbody>\n",
       "    <tr>\n",
       "      <th>610</th>\n",
       "      <td>patch_images/2021.01.07/LBC84-20210104(1)/LBC8...</td>\n",
       "      <td>[LSIL] LBC84</td>\n",
       "      <td>Negative</td>\n",
       "      <td>775</td>\n",
       "      <td>300</td>\n",
       "      <td>100</td>\n",
       "      <td>137</td>\n",
       "      <td>0</td>\n",
       "      <td>NaN</td>\n",
       "      <td>Superficial cell</td>\n",
       "      <td>[775, 300, 100, 137]</td>\n",
       "      <td>117</td>\n",
       "      <td>0.854358</td>\n",
       "      <td>408</td>\n",
       "    </tr>\n",
       "    <tr>\n",
       "      <th>617</th>\n",
       "      <td>patch_images/2021.01.07/LBC84-20210104(1)/LBC8...</td>\n",
       "      <td>[LSIL] LBC84</td>\n",
       "      <td>Negative</td>\n",
       "      <td>1159</td>\n",
       "      <td>887</td>\n",
       "      <td>110</td>\n",
       "      <td>171</td>\n",
       "      <td>0</td>\n",
       "      <td>NaN</td>\n",
       "      <td>Superficial cell</td>\n",
       "      <td>[1159, 887, 110, 171]</td>\n",
       "      <td>137</td>\n",
       "      <td>0.802044</td>\n",
       "      <td>413</td>\n",
       "    </tr>\n",
       "    <tr>\n",
       "      <th>1751</th>\n",
       "      <td>patch_images/2021.06.01/LBC1455-20210127(1)/LB...</td>\n",
       "      <td>LBC1455</td>\n",
       "      <td>Negative</td>\n",
       "      <td>994</td>\n",
       "      <td>1047</td>\n",
       "      <td>129</td>\n",
       "      <td>109</td>\n",
       "      <td>0</td>\n",
       "      <td>NaN</td>\n",
       "      <td>NaN</td>\n",
       "      <td>[994, 1047, 129, 109]</td>\n",
       "      <td>118</td>\n",
       "      <td>1.087882</td>\n",
       "      <td>1584</td>\n",
       "    </tr>\n",
       "    <tr>\n",
       "      <th>1752</th>\n",
       "      <td>patch_images/2021.06.01/LBC1455-20210127(1)/LB...</td>\n",
       "      <td>LBC1455</td>\n",
       "      <td>Negative</td>\n",
       "      <td>939</td>\n",
       "      <td>1595</td>\n",
       "      <td>256</td>\n",
       "      <td>196</td>\n",
       "      <td>0</td>\n",
       "      <td>NaN</td>\n",
       "      <td>NaN</td>\n",
       "      <td>[939, 1595, 256, 196]</td>\n",
       "      <td>224</td>\n",
       "      <td>1.142857</td>\n",
       "      <td>1585</td>\n",
       "    </tr>\n",
       "    <tr>\n",
       "      <th>1753</th>\n",
       "      <td>patch_images/2021.06.01/LBC1455-20210127(1)/LB...</td>\n",
       "      <td>LBC1455</td>\n",
       "      <td>Negative</td>\n",
       "      <td>1820</td>\n",
       "      <td>390</td>\n",
       "      <td>114</td>\n",
       "      <td>141</td>\n",
       "      <td>0</td>\n",
       "      <td>NaN</td>\n",
       "      <td>NaN</td>\n",
       "      <td>[1820, 390, 114, 141]</td>\n",
       "      <td>126</td>\n",
       "      <td>0.899172</td>\n",
       "      <td>1586</td>\n",
       "    </tr>\n",
       "  </tbody>\n",
       "</table>\n",
       "</div>"
      ],
      "text/plain": [
       "                                              file_name          task  \\\n",
       "610   patch_images/2021.01.07/LBC84-20210104(1)/LBC8...  [LSIL] LBC84   \n",
       "617   patch_images/2021.01.07/LBC84-20210104(1)/LBC8...  [LSIL] LBC84   \n",
       "1751  patch_images/2021.06.01/LBC1455-20210127(1)/LB...       LBC1455   \n",
       "1752  patch_images/2021.06.01/LBC1455-20210127(1)/LB...       LBC1455   \n",
       "1753  patch_images/2021.06.01/LBC1455-20210127(1)/LB...       LBC1455   \n",
       "\n",
       "         label  xmin  ymin    w    h  occluded  des         cell_type  \\\n",
       "610   Negative   775   300  100  137         0  NaN  Superficial cell   \n",
       "617   Negative  1159   887  110  171         0  NaN  Superficial cell   \n",
       "1751  Negative   994  1047  129  109         0  NaN               NaN   \n",
       "1752  Negative   939  1595  256  196         0  NaN               NaN   \n",
       "1753  Negative  1820   390  114  141         0  NaN               NaN   \n",
       "\n",
       "                       bbox  area     ratio    ID  \n",
       "610    [775, 300, 100, 137]   117  0.854358   408  \n",
       "617   [1159, 887, 110, 171]   137  0.802044   413  \n",
       "1751  [994, 1047, 129, 109]   118  1.087882  1584  \n",
       "1752  [939, 1595, 256, 196]   224  1.142857  1585  \n",
       "1753  [1820, 390, 114, 141]   126  0.899172  1586  "
      ]
     },
     "execution_count": 26,
     "metadata": {},
     "output_type": "execute_result"
    }
   ],
   "source": [
    "df = pd.read_csv('../saved/df.csv')\n",
    "df['label'] = df.label.apply(lambda x : CLASS_MAPPER[str(x)])\n",
    "df = drop_wrong(df)\n",
    "df.reset_index(drop=True, inplace=True)\n",
    "neg_df = df[df[columns]=='Negative']\n",
    "neg_df.head()"
   ]
  },
  {
   "cell_type": "code",
   "execution_count": 85,
   "id": "08d56bd0-85cd-4638-b2cb-7807202011c7",
   "metadata": {},
   "outputs": [
    {
     "name": "stdout",
     "output_type": "stream",
     "text": [
      "['[LSIL] LBC84' 'LBC1455' 'LBC56' 'LBC108' 'LBC52' 'LBC1291' 'LBC277'\n",
      " 'LBC14' 'LBC227' 'LBC115' 'LBC779' 'LBC27' 'LBC767' 'LBC962' 'LBC1499'\n",
      " 'LBC95' 'LBC10' 'LBC44']\n",
      "13\n",
      "0.24869755963805867\n",
      "0.24869755963805867\n"
     ]
    }
   ],
   "source": [
    "TRAIN_TEST_SPLIT_PERC = 0.75\n",
    "uniques = neg_df[\"task\"].unique()\n",
    "print(uniques)\n",
    "sep = int(len(uniques) * TRAIN_TEST_SPLIT_PERC)\n",
    "print(sep)\n",
    "\n",
    "best_ratio = 0\n",
    "best_unique = []\n",
    "best_train_df = []\n",
    "best_test_df = []\n",
    "for i in range(40) :\n",
    "    random.shuffle(uniques)\n",
    "    df = df.sample(frac=1).reset_index(drop=True) #For shuffling your data\n",
    "    train_ids, test_ids = uniques[:sep], uniques[sep:]\n",
    "    train_df, test_df = neg_df[neg_df.task.isin(train_ids)], neg_df[neg_df.task.isin(test_ids)]\n",
    "    ratio = len(test_df)/(len(test_df) + len(train_df))\n",
    "    if ratio > best_ratio and ratio < (1-TRAIN_TEST_SPLIT_PERC) :\n",
    "        best_ratio = ratio\n",
    "        best_unique.append(uniques)\n",
    "        best_train_df.append(train_df)\n",
    "        best_test_df.append(test_df)\n",
    "\n",
    "print(best_ratio)\n",
    "print(len(best_test_df[-1])/(len(best_test_df[-1]) + len(best_train_df[-1])))"
   ]
  },
  {
   "cell_type": "code",
   "execution_count": 86,
   "id": "dbda7837-9e47-49c0-901b-cdfbfb2a380c",
   "metadata": {},
   "outputs": [
    {
     "name": "stdout",
     "output_type": "stream",
     "text": [
      "['[LSIL] LBC427' 'LBC1098' 'LBC1571' '[ASCUS] LBC139' 'LBC1427'\n",
      " '[ASC-H] LBC203' 'LBC2315' '[HS6] LBC253' '[ASCUS] LBC138' '[AS6] LBC358'\n",
      " '[ASCUS] LBC583' '[ASC-H] LBC201' '[AS6] LBC421' 'LBC1572' 'LBC2170'\n",
      " 'LBC1790' '[ASCUS] LBC186' '[LSIL] LBC85' 'LBC1350' 'LBC1349'\n",
      " '[HSIL] LBC360' '[LSIL] LBC428' '[LS6] LBC247' '[AS6] LBC341' 'LBC2239'\n",
      " 'LBC1018' 'LBC1639' 'LBC1020' 'LBC1021' '[HSIL] LBC606' 'LBC1637'\n",
      " 'LBC1947' '[ASCUS] LBC176' '[HSIL] LBC681' 'LBC892' 'LBC813' 'LBC2314'\n",
      " '[ASCUS] LBC302' '[ASCUS] LBC177' '[HSIL] LBC311' 'LBC1428' 'LBC1698'\n",
      " '[LSIL] LBC675' '[ASCUS] LBC140' 'LBC1019' 'LBC812' '[ASC-H] LBC86'\n",
      " '[ASCUS] LBC134' '[ASCUS] LBC229' '[ASCUS] LBC185' '[ASCUS] LBC191'\n",
      " 'LBC1638' 'LBC890' 'LBC747' '[ASCUS] LBC189' '[AH6] LBC252' 'LBC2044']\n",
      "42\n",
      "0.24420190995907232\n",
      "0.24420190995907232\n"
     ]
    }
   ],
   "source": [
    "TRAIN_TEST_SPLIT_PERC = 0.75\n",
    "uniques = hsil_df[\"task\"].unique()\n",
    "print(uniques)\n",
    "sep = int(len(uniques) * TRAIN_TEST_SPLIT_PERC)\n",
    "print(sep)\n",
    "\n",
    "best_ratio = 0\n",
    "best_unique = []\n",
    "best_train_df = []\n",
    "best_test_df = []\n",
    "for i in range(40) :\n",
    "    random.shuffle(uniques)\n",
    "    df = df.sample(frac=1).reset_index(drop=True) #For shuffling your data\n",
    "    train_ids, test_ids = uniques[:sep], uniques[sep:]\n",
    "    train_df, test_df = hsil_df[hsil_df.task.isin(train_ids)], hsil_df[hsil_df.task.isin(test_ids)]\n",
    "    ratio = len(test_df)/(len(test_df) + len(train_df))\n",
    "    if ratio > best_ratio and ratio < (1-TRAIN_TEST_SPLIT_PERC) :\n",
    "        best_ratio = ratio\n",
    "        best_unique.append(uniques)\n",
    "        best_train_df.append(train_df)\n",
    "        best_test_df.append(test_df)\n",
    "\n",
    "print(best_ratio)\n",
    "print(len(best_test_df[-1])/(len(best_test_df[-1]) + len(best_train_df[-1])))"
   ]
  },
  {
   "cell_type": "code",
   "execution_count": null,
   "id": "f26d41fd-bd3f-4cb0-9f36-74cdd78978c3",
   "metadata": {},
   "outputs": [],
   "source": []
  }
 ],
 "metadata": {
  "kernelspec": {
   "display_name": "pytorch",
   "language": "python",
   "name": "pytorch"
  },
  "language_info": {
   "codemirror_mode": {
    "name": "ipython",
    "version": 3
   },
   "file_extension": ".py",
   "mimetype": "text/x-python",
   "name": "python",
   "nbconvert_exporter": "python",
   "pygments_lexer": "ipython3",
   "version": "3.7.9"
  }
 },
 "nbformat": 4,
 "nbformat_minor": 5
}
