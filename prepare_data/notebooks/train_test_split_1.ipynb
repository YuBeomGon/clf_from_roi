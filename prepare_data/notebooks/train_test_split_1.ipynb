{
 "cells": [
  {
   "cell_type": "code",
   "execution_count": 20,
   "id": "30cedfba-786f-4ea0-b142-8cdd6836c0c6",
   "metadata": {},
   "outputs": [],
   "source": [
    "import numpy as np\n",
    "import os\n",
    "import pandas as pd\n",
    "import torch\n",
    "import albumentations as A\n",
    "import albumentations.pytorch\n",
    "import cv2\n",
    "import sys\n",
    "import random\n",
    "import csv\n",
    "import json\n",
    "import matplotlib.pyplot as plt\n",
    "\n",
    "sys.path.append('../')\n",
    "from visualize import visualize\n",
    "from utils import *\n",
    "\n",
    "%matplotlib inline"
   ]
  },
  {
   "cell_type": "code",
   "execution_count": 21,
   "id": "bef2243e-ed2b-46af-ad4f-3e386f46dc5d",
   "metadata": {},
   "outputs": [
    {
     "data": {
      "text/plain": [
       "(22662, 14)"
      ]
     },
     "execution_count": 21,
     "metadata": {},
     "output_type": "execute_result"
    }
   ],
   "source": [
    "df = pd.read_csv('../saved/df.csv')\n",
    "df['label'] = df.label.apply(lambda x : CLASS_MAPPER[str(x)])\n",
    "df = drop_wrong(df)\n",
    "df.reset_index(drop=True, inplace=True)\n",
    "df.shape"
   ]
  },
  {
   "cell_type": "code",
   "execution_count": 23,
   "id": "49fed14b-8990-455a-82a5-39ff9a59e02f",
   "metadata": {},
   "outputs": [
    {
     "data": {
      "text/html": [
       "<div>\n",
       "<style scoped>\n",
       "    .dataframe tbody tr th:only-of-type {\n",
       "        vertical-align: middle;\n",
       "    }\n",
       "\n",
       "    .dataframe tbody tr th {\n",
       "        vertical-align: top;\n",
       "    }\n",
       "\n",
       "    .dataframe thead th {\n",
       "        text-align: right;\n",
       "    }\n",
       "</style>\n",
       "<table border=\"1\" class=\"dataframe\">\n",
       "  <thead>\n",
       "    <tr style=\"text-align: right;\">\n",
       "      <th></th>\n",
       "      <th>file_name</th>\n",
       "      <th>task</th>\n",
       "      <th>label</th>\n",
       "      <th>xmin</th>\n",
       "      <th>ymin</th>\n",
       "      <th>w</th>\n",
       "      <th>h</th>\n",
       "      <th>occluded</th>\n",
       "      <th>des</th>\n",
       "      <th>cell_type</th>\n",
       "      <th>bbox</th>\n",
       "      <th>area</th>\n",
       "      <th>ratio</th>\n",
       "      <th>ID</th>\n",
       "    </tr>\n",
       "  </thead>\n",
       "  <tbody>\n",
       "    <tr>\n",
       "      <th>22657</th>\n",
       "      <td>patch_images/2021.01.08/LBC131-20210105(1)/LBC...</td>\n",
       "      <td>[ASCUS] LBC131</td>\n",
       "      <td>ASC-US</td>\n",
       "      <td>755</td>\n",
       "      <td>755</td>\n",
       "      <td>179</td>\n",
       "      <td>79</td>\n",
       "      <td>0</td>\n",
       "      <td>NaN</td>\n",
       "      <td>Atypical squamous cells of undetermined signif...</td>\n",
       "      <td>[755, 755, 179, 79]</td>\n",
       "      <td>118</td>\n",
       "      <td>1.505265</td>\n",
       "      <td>17805</td>\n",
       "    </tr>\n",
       "    <tr>\n",
       "      <th>22658</th>\n",
       "      <td>patch_images/2021.01.08/LBC131-20210105(1)/LBC...</td>\n",
       "      <td>[ASCUS] LBC131</td>\n",
       "      <td>ASC-US</td>\n",
       "      <td>498</td>\n",
       "      <td>1087</td>\n",
       "      <td>147</td>\n",
       "      <td>110</td>\n",
       "      <td>0</td>\n",
       "      <td>NaN</td>\n",
       "      <td>Atypical squamous cells of undetermined signif...</td>\n",
       "      <td>[498, 1087, 147, 110]</td>\n",
       "      <td>127</td>\n",
       "      <td>1.156012</td>\n",
       "      <td>17806</td>\n",
       "    </tr>\n",
       "    <tr>\n",
       "      <th>22659</th>\n",
       "      <td>patch_images/2021.01.08/LBC131-20210105(1)/LBC...</td>\n",
       "      <td>[ASCUS] LBC131</td>\n",
       "      <td>ASC-US</td>\n",
       "      <td>461</td>\n",
       "      <td>1222</td>\n",
       "      <td>118</td>\n",
       "      <td>150</td>\n",
       "      <td>0</td>\n",
       "      <td>NaN</td>\n",
       "      <td>Atypical squamous cells of undetermined signif...</td>\n",
       "      <td>[461, 1222, 118, 150]</td>\n",
       "      <td>133</td>\n",
       "      <td>0.886942</td>\n",
       "      <td>17806</td>\n",
       "    </tr>\n",
       "    <tr>\n",
       "      <th>22660</th>\n",
       "      <td>patch_images/2021.01.08/LBC131-20210105(1)/LBC...</td>\n",
       "      <td>[ASCUS] LBC131</td>\n",
       "      <td>ASC-US</td>\n",
       "      <td>1311</td>\n",
       "      <td>356</td>\n",
       "      <td>147</td>\n",
       "      <td>153</td>\n",
       "      <td>0</td>\n",
       "      <td>NaN</td>\n",
       "      <td>Atypical squamous cells of undetermined signif...</td>\n",
       "      <td>[1311, 356, 147, 153]</td>\n",
       "      <td>149</td>\n",
       "      <td>0.980196</td>\n",
       "      <td>17807</td>\n",
       "    </tr>\n",
       "    <tr>\n",
       "      <th>22661</th>\n",
       "      <td>patch_images/2021.01.08/LBC131-20210105(1)/LBC...</td>\n",
       "      <td>[ASCUS] LBC131</td>\n",
       "      <td>ASC-US</td>\n",
       "      <td>203</td>\n",
       "      <td>372</td>\n",
       "      <td>139</td>\n",
       "      <td>87</td>\n",
       "      <td>0</td>\n",
       "      <td>NaN</td>\n",
       "      <td>Atypical squamous cells of undetermined signif...</td>\n",
       "      <td>[203, 372, 139, 87]</td>\n",
       "      <td>109</td>\n",
       "      <td>1.264002</td>\n",
       "      <td>17808</td>\n",
       "    </tr>\n",
       "  </tbody>\n",
       "</table>\n",
       "</div>"
      ],
      "text/plain": [
       "                                               file_name            task  \\\n",
       "22657  patch_images/2021.01.08/LBC131-20210105(1)/LBC...  [ASCUS] LBC131   \n",
       "22658  patch_images/2021.01.08/LBC131-20210105(1)/LBC...  [ASCUS] LBC131   \n",
       "22659  patch_images/2021.01.08/LBC131-20210105(1)/LBC...  [ASCUS] LBC131   \n",
       "22660  patch_images/2021.01.08/LBC131-20210105(1)/LBC...  [ASCUS] LBC131   \n",
       "22661  patch_images/2021.01.08/LBC131-20210105(1)/LBC...  [ASCUS] LBC131   \n",
       "\n",
       "        label  xmin  ymin    w    h  occluded  des  \\\n",
       "22657  ASC-US   755   755  179   79         0  NaN   \n",
       "22658  ASC-US   498  1087  147  110         0  NaN   \n",
       "22659  ASC-US   461  1222  118  150         0  NaN   \n",
       "22660  ASC-US  1311   356  147  153         0  NaN   \n",
       "22661  ASC-US   203   372  139   87         0  NaN   \n",
       "\n",
       "                                               cell_type  \\\n",
       "22657  Atypical squamous cells of undetermined signif...   \n",
       "22658  Atypical squamous cells of undetermined signif...   \n",
       "22659  Atypical squamous cells of undetermined signif...   \n",
       "22660  Atypical squamous cells of undetermined signif...   \n",
       "22661  Atypical squamous cells of undetermined signif...   \n",
       "\n",
       "                        bbox  area     ratio     ID  \n",
       "22657    [755, 755, 179, 79]   118  1.505265  17805  \n",
       "22658  [498, 1087, 147, 110]   127  1.156012  17806  \n",
       "22659  [461, 1222, 118, 150]   133  0.886942  17806  \n",
       "22660  [1311, 356, 147, 153]   149  0.980196  17807  \n",
       "22661    [203, 372, 139, 87]   109  1.264002  17808  "
      ]
     },
     "execution_count": 23,
     "metadata": {},
     "output_type": "execute_result"
    }
   ],
   "source": [
    "df.tail()"
   ]
  },
  {
   "cell_type": "code",
   "execution_count": 26,
   "id": "bf6df048-6b47-4a9d-aa7f-4fcb0cbb508e",
   "metadata": {},
   "outputs": [
    {
     "name": "stdout",
     "output_type": "stream",
     "text": [
      "(17146, 14)\n",
      "(5497, 14)\n"
     ]
    }
   ],
   "source": [
    "train = pd.read_csv('../saved/train.csv')\n",
    "test = pd.read_csv('../saved/test.csv')\n",
    "print(train.shape)\n",
    "print(test.shape)"
   ]
  },
  {
   "cell_type": "code",
   "execution_count": 28,
   "id": "8a9e14a8-bc9e-4079-ac7f-9ae33bd3d79d",
   "metadata": {},
   "outputs": [
    {
     "name": "stdout",
     "output_type": "stream",
     "text": [
      "(17146, 14)\n",
      "(5497, 14)\n"
     ]
    }
   ],
   "source": [
    "print(train.drop_duplicates().shape)\n",
    "print(test.drop_duplicates().shape)"
   ]
  },
  {
   "cell_type": "code",
   "execution_count": null,
   "id": "51e6e839-5494-4c04-8091-7d6edfbef50e",
   "metadata": {},
   "outputs": [],
   "source": [
    "k"
   ]
  }
 ],
 "metadata": {
  "kernelspec": {
   "display_name": "pytorch",
   "language": "python",
   "name": "pytorch"
  },
  "language_info": {
   "codemirror_mode": {
    "name": "ipython",
    "version": 3
   },
   "file_extension": ".py",
   "mimetype": "text/x-python",
   "name": "python",
   "nbconvert_exporter": "python",
   "pygments_lexer": "ipython3",
   "version": "3.7.9"
  }
 },
 "nbformat": 4,
 "nbformat_minor": 5
}
