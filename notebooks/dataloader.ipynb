{
 "cells": [
  {
   "cell_type": "code",
   "execution_count": 19,
   "id": "6a5a33c2-1b84-4cf2-a3f2-a4db249faf1e",
   "metadata": {},
   "outputs": [],
   "source": [
    "import os\n",
    "import json\n",
    "import matplotlib.pyplot as plt \n",
    "import matplotlib.image as image \n",
    "import numpy as np\n",
    "import pandas as pd\n",
    "import albumentations as A\n",
    "import albumentations.pytorch\n",
    "import cv2\n",
    "import math\n",
    "\n",
    "import torch\n",
    "from pytorch_lightning import LightningModule, Trainer\n",
    "from torch import nn\n",
    "from torch.nn import functional as F\n",
    "from torch.utils.data import DataLoader, random_split\n",
    "from torchmetrics import Accuracy\n",
    "from torchvision import transforms\n",
    "from torchvision.datasets import MNIST\n",
    "\n",
    "import sys\n",
    "sys.path.append('../')\n",
    "from utils.dataset import *\n",
    "# from train import PapsClsModel\n"
   ]
  },
  {
   "cell_type": "code",
   "execution_count": null,
   "id": "95c14b07-3437-45d5-83fc-332423f9f944",
   "metadata": {},
   "outputs": [],
   "source": []
  },
  {
   "cell_type": "code",
   "execution_count": 20,
   "id": "8207a6d3-0a45-4369-a96b-26e4c1acb1c5",
   "metadata": {},
   "outputs": [],
   "source": [
    "train_df = pd.read_csv( '../lbp_data/train.csv')"
   ]
  },
  {
   "cell_type": "code",
   "execution_count": 21,
   "id": "9ca9ae36-b79d-4a60-8c8c-c52e31339d22",
   "metadata": {},
   "outputs": [
    {
     "data": {
      "text/plain": [
       "(16569, 13)"
      ]
     },
     "execution_count": 21,
     "metadata": {},
     "output_type": "execute_result"
    }
   ],
   "source": [
    "train_df.shape"
   ]
  },
  {
   "cell_type": "code",
   "execution_count": 22,
   "id": "ea42013d-f860-40e9-84c8-65696489ab8c",
   "metadata": {},
   "outputs": [
    {
     "data": {
      "text/html": [
       "<div>\n",
       "<style scoped>\n",
       "    .dataframe tbody tr th:only-of-type {\n",
       "        vertical-align: middle;\n",
       "    }\n",
       "\n",
       "    .dataframe tbody tr th {\n",
       "        vertical-align: top;\n",
       "    }\n",
       "\n",
       "    .dataframe thead th {\n",
       "        text-align: right;\n",
       "    }\n",
       "</style>\n",
       "<table border=\"1\" class=\"dataframe\">\n",
       "  <thead>\n",
       "    <tr style=\"text-align: right;\">\n",
       "      <th></th>\n",
       "      <th>ID</th>\n",
       "      <th>file_name</th>\n",
       "      <th>task</th>\n",
       "      <th>bbox</th>\n",
       "      <th>xmin</th>\n",
       "      <th>ymin</th>\n",
       "      <th>w</th>\n",
       "      <th>h</th>\n",
       "      <th>label</th>\n",
       "      <th>label_id</th>\n",
       "      <th>occluded</th>\n",
       "      <th>des</th>\n",
       "      <th>cell_type</th>\n",
       "    </tr>\n",
       "  </thead>\n",
       "  <tbody>\n",
       "    <tr>\n",
       "      <th>0</th>\n",
       "      <td>0</td>\n",
       "      <td>patch_images/2021.01.14/LBC424-20210111(1)/LBC...</td>\n",
       "      <td>[AS6] LBC424</td>\n",
       "      <td>[1539, 199, 139, 211]</td>\n",
       "      <td>1539</td>\n",
       "      <td>199</td>\n",
       "      <td>139</td>\n",
       "      <td>211</td>\n",
       "      <td>C</td>\n",
       "      <td>Candida</td>\n",
       "      <td>0</td>\n",
       "      <td>NaN</td>\n",
       "      <td>ASC-US</td>\n",
       "    </tr>\n",
       "    <tr>\n",
       "      <th>1</th>\n",
       "      <td>1</td>\n",
       "      <td>patch_images/2021.01.14/LBC424-20210111(1)/LBC...</td>\n",
       "      <td>[AS6] LBC424</td>\n",
       "      <td>[1337, 102, 256, 136]</td>\n",
       "      <td>1337</td>\n",
       "      <td>102</td>\n",
       "      <td>256</td>\n",
       "      <td>136</td>\n",
       "      <td>AS</td>\n",
       "      <td>ASC-US</td>\n",
       "      <td>0</td>\n",
       "      <td>NaN</td>\n",
       "      <td>ASC-US</td>\n",
       "    </tr>\n",
       "    <tr>\n",
       "      <th>2</th>\n",
       "      <td>2</td>\n",
       "      <td>patch_images/2021.01.14/LBC424-20210111(1)/LBC...</td>\n",
       "      <td>[AS6] LBC424</td>\n",
       "      <td>[220, 619, 166, 169]</td>\n",
       "      <td>220</td>\n",
       "      <td>619</td>\n",
       "      <td>166</td>\n",
       "      <td>169</td>\n",
       "      <td>AS</td>\n",
       "      <td>ASC-US</td>\n",
       "      <td>0</td>\n",
       "      <td>NaN</td>\n",
       "      <td>ASC-US</td>\n",
       "    </tr>\n",
       "    <tr>\n",
       "      <th>3</th>\n",
       "      <td>3</td>\n",
       "      <td>patch_images/2021.01.14/LBC424-20210111(1)/LBC...</td>\n",
       "      <td>[AS6] LBC424</td>\n",
       "      <td>[658, 1747, 191, 166]</td>\n",
       "      <td>658</td>\n",
       "      <td>1747</td>\n",
       "      <td>191</td>\n",
       "      <td>166</td>\n",
       "      <td>AS</td>\n",
       "      <td>ASC-US</td>\n",
       "      <td>0</td>\n",
       "      <td>NaN</td>\n",
       "      <td>ASC-US</td>\n",
       "    </tr>\n",
       "    <tr>\n",
       "      <th>4</th>\n",
       "      <td>4</td>\n",
       "      <td>patch_images/2021.01.14/LBC424-20210111(1)/LBC...</td>\n",
       "      <td>[AS6] LBC424</td>\n",
       "      <td>[1571, 365, 136, 146]</td>\n",
       "      <td>1571</td>\n",
       "      <td>365</td>\n",
       "      <td>136</td>\n",
       "      <td>146</td>\n",
       "      <td>AS</td>\n",
       "      <td>ASC-US</td>\n",
       "      <td>0</td>\n",
       "      <td>NaN</td>\n",
       "      <td>ASC-US</td>\n",
       "    </tr>\n",
       "  </tbody>\n",
       "</table>\n",
       "</div>"
      ],
      "text/plain": [
       "   ID                                          file_name          task  \\\n",
       "0   0  patch_images/2021.01.14/LBC424-20210111(1)/LBC...  [AS6] LBC424   \n",
       "1   1  patch_images/2021.01.14/LBC424-20210111(1)/LBC...  [AS6] LBC424   \n",
       "2   2  patch_images/2021.01.14/LBC424-20210111(1)/LBC...  [AS6] LBC424   \n",
       "3   3  patch_images/2021.01.14/LBC424-20210111(1)/LBC...  [AS6] LBC424   \n",
       "4   4  patch_images/2021.01.14/LBC424-20210111(1)/LBC...  [AS6] LBC424   \n",
       "\n",
       "                    bbox  xmin  ymin    w    h label label_id  occluded  des  \\\n",
       "0  [1539, 199, 139, 211]  1539   199  139  211     C  Candida         0  NaN   \n",
       "1  [1337, 102, 256, 136]  1337   102  256  136    AS   ASC-US         0  NaN   \n",
       "2   [220, 619, 166, 169]   220   619  166  169    AS   ASC-US         0  NaN   \n",
       "3  [658, 1747, 191, 166]   658  1747  191  166    AS   ASC-US         0  NaN   \n",
       "4  [1571, 365, 136, 146]  1571   365  136  146    AS   ASC-US         0  NaN   \n",
       "\n",
       "  cell_type  \n",
       "0    ASC-US  \n",
       "1    ASC-US  \n",
       "2    ASC-US  \n",
       "3    ASC-US  \n",
       "4    ASC-US  "
      ]
     },
     "execution_count": 22,
     "metadata": {},
     "output_type": "execute_result"
    }
   ],
   "source": [
    "train_df.head()"
   ]
  },
  {
   "cell_type": "code",
   "execution_count": 23,
   "id": "a7b4b687-6673-44fa-9cba-c49f0edb1407",
   "metadata": {},
   "outputs": [
    {
     "data": {
      "text/plain": [
       "AS                           4322\n",
       "ASC-US                       2448\n",
       "LS                           2112\n",
       "Negative                     1770\n",
       "ASC-US with HPV infection    1390\n",
       "LSIL                         1262\n",
       "AH                            753\n",
       "HSIL                          546\n",
       "LSIL with HPV infection       447\n",
       "HS                            395\n",
       "Candida                       271\n",
       "ASC-H                         235\n",
       "C                             213\n",
       "N - Endocervical Cell         209\n",
       "HN                            102\n",
       "HSIL with HPV infection        86\n",
       "판독불가                            3\n",
       "ASCUS-SIL                       2\n",
       "SC                              1\n",
       "N - Endometrial cell            1\n",
       "ASC-H with HPV infection        1\n",
       "Name: label, dtype: int64"
      ]
     },
     "execution_count": 23,
     "metadata": {},
     "output_type": "execute_result"
    }
   ],
   "source": [
    "train_df.label.value_counts()"
   ]
  },
  {
   "cell_type": "code",
   "execution_count": 24,
   "id": "33454f69-d737-443e-b782-ba6f9796e3d6",
   "metadata": {},
   "outputs": [
    {
     "data": {
      "text/plain": [
       "9"
      ]
     },
     "execution_count": 24,
     "metadata": {},
     "output_type": "execute_result"
    }
   ],
   "source": [
    "len(train_df.label_id.unique())"
   ]
  },
  {
   "cell_type": "code",
   "execution_count": 25,
   "id": "d007285a-3228-4544-b41e-9d2a409cf968",
   "metadata": {},
   "outputs": [],
   "source": [
    "train_dataset = PapsDataset(train_df, defaultpath='../lbp_data', transform=train_transforms)"
   ]
  },
  {
   "cell_type": "code",
   "execution_count": 28,
   "id": "6e4f6b6b-02eb-472f-bf34-8b4568fdf256",
   "metadata": {},
   "outputs": [
    {
     "data": {
      "text/html": [
       "<div>\n",
       "<style scoped>\n",
       "    .dataframe tbody tr th:only-of-type {\n",
       "        vertical-align: middle;\n",
       "    }\n",
       "\n",
       "    .dataframe tbody tr th {\n",
       "        vertical-align: top;\n",
       "    }\n",
       "\n",
       "    .dataframe thead th {\n",
       "        text-align: right;\n",
       "    }\n",
       "</style>\n",
       "<table border=\"1\" class=\"dataframe\">\n",
       "  <thead>\n",
       "    <tr style=\"text-align: right;\">\n",
       "      <th></th>\n",
       "      <th>ID</th>\n",
       "      <th>file_name</th>\n",
       "      <th>task</th>\n",
       "      <th>bbox</th>\n",
       "      <th>xmin</th>\n",
       "      <th>ymin</th>\n",
       "      <th>w</th>\n",
       "      <th>h</th>\n",
       "      <th>label</th>\n",
       "      <th>label_id</th>\n",
       "      <th>occluded</th>\n",
       "      <th>des</th>\n",
       "      <th>cell_type</th>\n",
       "    </tr>\n",
       "  </thead>\n",
       "  <tbody>\n",
       "    <tr>\n",
       "      <th>0</th>\n",
       "      <td>0</td>\n",
       "      <td>patch_images/2021.01.14/LBC424-20210111(1)/LBC...</td>\n",
       "      <td>[AS6] LBC424</td>\n",
       "      <td>[1539, 199, 139, 211]</td>\n",
       "      <td>1539</td>\n",
       "      <td>199</td>\n",
       "      <td>139</td>\n",
       "      <td>211</td>\n",
       "      <td>5</td>\n",
       "      <td>Candida</td>\n",
       "      <td>0</td>\n",
       "      <td>NaN</td>\n",
       "      <td>ASC-US</td>\n",
       "    </tr>\n",
       "    <tr>\n",
       "      <th>1</th>\n",
       "      <td>1</td>\n",
       "      <td>patch_images/2021.01.14/LBC424-20210111(1)/LBC...</td>\n",
       "      <td>[AS6] LBC424</td>\n",
       "      <td>[1337, 102, 256, 136]</td>\n",
       "      <td>1337</td>\n",
       "      <td>102</td>\n",
       "      <td>256</td>\n",
       "      <td>136</td>\n",
       "      <td>0</td>\n",
       "      <td>ASC-US</td>\n",
       "      <td>0</td>\n",
       "      <td>NaN</td>\n",
       "      <td>ASC-US</td>\n",
       "    </tr>\n",
       "    <tr>\n",
       "      <th>2</th>\n",
       "      <td>2</td>\n",
       "      <td>patch_images/2021.01.14/LBC424-20210111(1)/LBC...</td>\n",
       "      <td>[AS6] LBC424</td>\n",
       "      <td>[220, 619, 166, 169]</td>\n",
       "      <td>220</td>\n",
       "      <td>619</td>\n",
       "      <td>166</td>\n",
       "      <td>169</td>\n",
       "      <td>0</td>\n",
       "      <td>ASC-US</td>\n",
       "      <td>0</td>\n",
       "      <td>NaN</td>\n",
       "      <td>ASC-US</td>\n",
       "    </tr>\n",
       "    <tr>\n",
       "      <th>3</th>\n",
       "      <td>3</td>\n",
       "      <td>patch_images/2021.01.14/LBC424-20210111(1)/LBC...</td>\n",
       "      <td>[AS6] LBC424</td>\n",
       "      <td>[658, 1747, 191, 166]</td>\n",
       "      <td>658</td>\n",
       "      <td>1747</td>\n",
       "      <td>191</td>\n",
       "      <td>166</td>\n",
       "      <td>0</td>\n",
       "      <td>ASC-US</td>\n",
       "      <td>0</td>\n",
       "      <td>NaN</td>\n",
       "      <td>ASC-US</td>\n",
       "    </tr>\n",
       "    <tr>\n",
       "      <th>4</th>\n",
       "      <td>4</td>\n",
       "      <td>patch_images/2021.01.14/LBC424-20210111(1)/LBC...</td>\n",
       "      <td>[AS6] LBC424</td>\n",
       "      <td>[1571, 365, 136, 146]</td>\n",
       "      <td>1571</td>\n",
       "      <td>365</td>\n",
       "      <td>136</td>\n",
       "      <td>146</td>\n",
       "      <td>0</td>\n",
       "      <td>ASC-US</td>\n",
       "      <td>0</td>\n",
       "      <td>NaN</td>\n",
       "      <td>ASC-US</td>\n",
       "    </tr>\n",
       "  </tbody>\n",
       "</table>\n",
       "</div>"
      ],
      "text/plain": [
       "   ID                                          file_name          task  \\\n",
       "0   0  patch_images/2021.01.14/LBC424-20210111(1)/LBC...  [AS6] LBC424   \n",
       "1   1  patch_images/2021.01.14/LBC424-20210111(1)/LBC...  [AS6] LBC424   \n",
       "2   2  patch_images/2021.01.14/LBC424-20210111(1)/LBC...  [AS6] LBC424   \n",
       "3   3  patch_images/2021.01.14/LBC424-20210111(1)/LBC...  [AS6] LBC424   \n",
       "4   4  patch_images/2021.01.14/LBC424-20210111(1)/LBC...  [AS6] LBC424   \n",
       "\n",
       "                    bbox  xmin  ymin    w    h  label label_id  occluded  des  \\\n",
       "0  [1539, 199, 139, 211]  1539   199  139  211      5  Candida         0  NaN   \n",
       "1  [1337, 102, 256, 136]  1337   102  256  136      0   ASC-US         0  NaN   \n",
       "2   [220, 619, 166, 169]   220   619  166  169      0   ASC-US         0  NaN   \n",
       "3  [658, 1747, 191, 166]   658  1747  191  166      0   ASC-US         0  NaN   \n",
       "4  [1571, 365, 136, 146]  1571   365  136  146      0   ASC-US         0  NaN   \n",
       "\n",
       "  cell_type  \n",
       "0    ASC-US  \n",
       "1    ASC-US  \n",
       "2    ASC-US  \n",
       "3    ASC-US  \n",
       "4    ASC-US  "
      ]
     },
     "execution_count": 28,
     "metadata": {},
     "output_type": "execute_result"
    }
   ],
   "source": [
    "train_df.head()"
   ]
  },
  {
   "cell_type": "code",
   "execution_count": 27,
   "id": "4a3cfe82-3c4f-4e4b-a5ea-68c480e929cb",
   "metadata": {},
   "outputs": [
    {
     "data": {
      "text/plain": [
       "5"
      ]
     },
     "execution_count": 27,
     "metadata": {},
     "output_type": "execute_result"
    }
   ],
   "source": [
    "train_df.iloc[0, 8]"
   ]
  },
  {
   "cell_type": "code",
   "execution_count": 32,
   "id": "d04aff04-9177-4916-a3ee-353ee6bb53ad",
   "metadata": {},
   "outputs": [
    {
     "data": {
      "text/plain": [
       "array([0, 1, 4, 2, 3])"
      ]
     },
     "execution_count": 32,
     "metadata": {},
     "output_type": "execute_result"
    }
   ],
   "source": [
    "train_dataset.df.label.unique()"
   ]
  },
  {
   "cell_type": "code",
   "execution_count": null,
   "id": "2954b891-d548-4d84-9ce4-4a72c8674fc5",
   "metadata": {},
   "outputs": [],
   "source": []
  },
  {
   "cell_type": "code",
   "execution_count": null,
   "id": "4ad5b059-f1d8-4874-a09a-a60a422edd6c",
   "metadata": {},
   "outputs": [],
   "source": []
  },
  {
   "cell_type": "code",
   "execution_count": 17,
   "id": "17092547-234f-4be8-b911-fadb15dfc2f4",
   "metadata": {},
   "outputs": [],
   "source": [
    "from pytorch_lightning import LightningDataModule\n",
    "class PapsDataModule(LightningDataModule):\n",
    "    def __init__(self, data_dir: str = '../lbp_data/'):\n",
    "        super().__init__()\n",
    "        self.data_dir = data_dir\n",
    "        self.train_transform = train_transforms\n",
    "        self.test_transform = test_transforms\n",
    "\n",
    "        # self.dims is returned when you call dm.size()\n",
    "        # Setting default dims here because we know them.\n",
    "        # Could optionally be assigned dynamically in dm.setup()\n",
    "        self.dims = (1, 28, 28)\n",
    "        self.num_classes = 5\n",
    "\n",
    "    def prepare_data(self):\n",
    "        # download\n",
    "        pass\n",
    "\n",
    "    def setup(self, stage=None):\n",
    "\n",
    "        # Assign train/val datasets for use in dataloaders\n",
    "        if stage == \"fit\" or stage is None:\n",
    "            train_df = pd.read_csv(self.data_dir + 'train.csv')\n",
    "            self.train_dataset = PapsDataset(train_df, defaultpath=self.data_dir, transform=self.train_transforms)\n",
    "\n",
    "        # Assign test dataset for use in dataloader(s)\n",
    "        if stage == \"test\" or stage is None:\n",
    "            test_df = pd.read_csv(self.data_dir + 'test.csv')\n",
    "            self.test_dataset = PapsDataset(test_df, defaultpath=self.data_dir, transform=self.test_transforms)\n",
    "\n",
    "    def train_dataloader(self):\n",
    "        return DataLoader(self.train_dataset, batch_size=BATCH_SIZE)\n",
    "\n",
    "    def val_dataloader(self):\n",
    "        return DataLoader(self.test_dataset, batch_size=BATCH_SIZE)\n",
    "\n",
    "    def test_dataloader(self):\n",
    "        return DataLoader(self.test_dataset, batch_size=BATCH_SIZE)"
   ]
  },
  {
   "cell_type": "code",
   "execution_count": null,
   "id": "1a017ec7-c1b5-4cf7-9418-5b63e59d6c10",
   "metadata": {},
   "outputs": [],
   "source": []
  }
 ],
 "metadata": {
  "kernelspec": {
   "display_name": "Python [conda env:root] *",
   "language": "python",
   "name": "conda-root-py"
  },
  "language_info": {
   "codemirror_mode": {
    "name": "ipython",
    "version": 3
   },
   "file_extension": ".py",
   "mimetype": "text/x-python",
   "name": "python",
   "nbconvert_exporter": "python",
   "pygments_lexer": "ipython3",
   "version": "3.9.7"
  }
 },
 "nbformat": 4,
 "nbformat_minor": 5
}
