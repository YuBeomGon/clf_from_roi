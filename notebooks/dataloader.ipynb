{
 "cells": [
  {
   "cell_type": "code",
   "execution_count": 1,
   "id": "6a5a33c2-1b84-4cf2-a3f2-a4db249faf1e",
   "metadata": {},
   "outputs": [],
   "source": [
    "import os\n",
    "import json\n",
    "import matplotlib.pyplot as plt \n",
    "import matplotlib.image as image \n",
    "import numpy as np\n",
    "import pandas as pd\n",
    "import albumentations as A\n",
    "import albumentations.pytorch\n",
    "import cv2\n",
    "import math\n",
    "\n",
    "import torch\n",
    "from pytorch_lightning import LightningModule, Trainer\n",
    "from torch import nn\n",
    "from torch.nn import functional as F\n",
    "from torch.utils.data import DataLoader, random_split\n",
    "from torchmetrics import Accuracy\n",
    "from torchvision import transforms\n",
    "from torchvision.datasets import MNIST\n",
    "\n",
    "import sys\n",
    "sys.path.append('../')\n",
    "from utils.dataset import *\n",
    "# from train import PapsClsModel\n"
   ]
  },
  {
   "cell_type": "code",
   "execution_count": null,
   "id": "95c14b07-3437-45d5-83fc-332423f9f944",
   "metadata": {},
   "outputs": [],
   "source": []
  },
  {
   "cell_type": "code",
   "execution_count": 2,
   "id": "8207a6d3-0a45-4369-a96b-26e4c1acb1c5",
   "metadata": {},
   "outputs": [],
   "source": [
    "train_df = pd.read_csv( '../lbp_data/train.csv')\n",
    "test_df = pd.read_csv( '../lbp_data/test.csv')"
   ]
  },
  {
   "cell_type": "code",
   "execution_count": 3,
   "id": "9ca9ae36-b79d-4a60-8c8c-c52e31339d22",
   "metadata": {},
   "outputs": [
    {
     "data": {
      "text/plain": [
       "(13829, 14)"
      ]
     },
     "execution_count": 3,
     "metadata": {},
     "output_type": "execute_result"
    }
   ],
   "source": [
    "train_df.shape"
   ]
  },
  {
   "cell_type": "code",
   "execution_count": 4,
   "id": "ef7eb622-7531-4966-820c-3dde7d3406fb",
   "metadata": {},
   "outputs": [
    {
     "data": {
      "text/plain": [
       "(5506, 14)"
      ]
     },
     "execution_count": 4,
     "metadata": {},
     "output_type": "execute_result"
    }
   ],
   "source": [
    "test_df.shape"
   ]
  },
  {
   "cell_type": "code",
   "execution_count": 5,
   "id": "ea42013d-f860-40e9-84c8-65696489ab8c",
   "metadata": {},
   "outputs": [
    {
     "data": {
      "text/html": [
       "<div>\n",
       "<style scoped>\n",
       "    .dataframe tbody tr th:only-of-type {\n",
       "        vertical-align: middle;\n",
       "    }\n",
       "\n",
       "    .dataframe tbody tr th {\n",
       "        vertical-align: top;\n",
       "    }\n",
       "\n",
       "    .dataframe thead th {\n",
       "        text-align: right;\n",
       "    }\n",
       "</style>\n",
       "<table border=\"1\" class=\"dataframe\">\n",
       "  <thead>\n",
       "    <tr style=\"text-align: right;\">\n",
       "      <th></th>\n",
       "      <th>file_name</th>\n",
       "      <th>task</th>\n",
       "      <th>label</th>\n",
       "      <th>xmin</th>\n",
       "      <th>ymin</th>\n",
       "      <th>w</th>\n",
       "      <th>h</th>\n",
       "      <th>occluded</th>\n",
       "      <th>des</th>\n",
       "      <th>cell_type</th>\n",
       "      <th>bbox</th>\n",
       "      <th>diag</th>\n",
       "      <th>ID</th>\n",
       "      <th>label_id</th>\n",
       "    </tr>\n",
       "  </thead>\n",
       "  <tbody>\n",
       "    <tr>\n",
       "      <th>0</th>\n",
       "      <td>patch_images/2021.05.11/LBC573-20210113(1)/LBC...</td>\n",
       "      <td>[ASCUS] LBC573</td>\n",
       "      <td>ASC-US</td>\n",
       "      <td>349</td>\n",
       "      <td>1080</td>\n",
       "      <td>174</td>\n",
       "      <td>161</td>\n",
       "      <td>0</td>\n",
       "      <td>NaN</td>\n",
       "      <td>Atypical squamous cells of undetermined signif...</td>\n",
       "      <td>[349, 1080, 174, 161]</td>\n",
       "      <td>237</td>\n",
       "      <td>8</td>\n",
       "      <td>abnormal</td>\n",
       "    </tr>\n",
       "    <tr>\n",
       "      <th>1</th>\n",
       "      <td>patch_images/2021.05.11/LBC573-20210113(1)/LBC...</td>\n",
       "      <td>[ASCUS] LBC573</td>\n",
       "      <td>ASC-US</td>\n",
       "      <td>267</td>\n",
       "      <td>711</td>\n",
       "      <td>161</td>\n",
       "      <td>124</td>\n",
       "      <td>0</td>\n",
       "      <td>NaN</td>\n",
       "      <td>Atypical squamous cells of undetermined signif...</td>\n",
       "      <td>[267, 711, 161, 124]</td>\n",
       "      <td>203</td>\n",
       "      <td>9</td>\n",
       "      <td>abnormal</td>\n",
       "    </tr>\n",
       "    <tr>\n",
       "      <th>2</th>\n",
       "      <td>patch_images/2021.05.11/LBC573-20210113(1)/LBC...</td>\n",
       "      <td>[ASCUS] LBC573</td>\n",
       "      <td>ASC-US</td>\n",
       "      <td>202</td>\n",
       "      <td>970</td>\n",
       "      <td>131</td>\n",
       "      <td>176</td>\n",
       "      <td>0</td>\n",
       "      <td>NaN</td>\n",
       "      <td>Atypical squamous cells of undetermined signif...</td>\n",
       "      <td>[202, 970, 131, 176]</td>\n",
       "      <td>219</td>\n",
       "      <td>10</td>\n",
       "      <td>abnormal</td>\n",
       "    </tr>\n",
       "    <tr>\n",
       "      <th>3</th>\n",
       "      <td>patch_images/2021.01.06/LBC37-20210102(1)/LBC3...</td>\n",
       "      <td>[ASCUS] LBC37</td>\n",
       "      <td>ASC-US</td>\n",
       "      <td>1349</td>\n",
       "      <td>420</td>\n",
       "      <td>100</td>\n",
       "      <td>113</td>\n",
       "      <td>0</td>\n",
       "      <td>NaN</td>\n",
       "      <td>Atypical squamous cells of undetermined signif...</td>\n",
       "      <td>[1349, 420, 100, 113]</td>\n",
       "      <td>150</td>\n",
       "      <td>11</td>\n",
       "      <td>abnormal</td>\n",
       "    </tr>\n",
       "    <tr>\n",
       "      <th>4</th>\n",
       "      <td>patch_images/2021.01.06/LBC37-20210102(1)/LBC3...</td>\n",
       "      <td>[ASCUS] LBC37</td>\n",
       "      <td>ASC-US</td>\n",
       "      <td>1575</td>\n",
       "      <td>720</td>\n",
       "      <td>163</td>\n",
       "      <td>213</td>\n",
       "      <td>0</td>\n",
       "      <td>NaN</td>\n",
       "      <td>Atypical squamous cells of undetermined signif...</td>\n",
       "      <td>[1575, 720, 163, 213]</td>\n",
       "      <td>268</td>\n",
       "      <td>12</td>\n",
       "      <td>abnormal</td>\n",
       "    </tr>\n",
       "  </tbody>\n",
       "</table>\n",
       "</div>"
      ],
      "text/plain": [
       "                                           file_name            task   label  \\\n",
       "0  patch_images/2021.05.11/LBC573-20210113(1)/LBC...  [ASCUS] LBC573  ASC-US   \n",
       "1  patch_images/2021.05.11/LBC573-20210113(1)/LBC...  [ASCUS] LBC573  ASC-US   \n",
       "2  patch_images/2021.05.11/LBC573-20210113(1)/LBC...  [ASCUS] LBC573  ASC-US   \n",
       "3  patch_images/2021.01.06/LBC37-20210102(1)/LBC3...   [ASCUS] LBC37  ASC-US   \n",
       "4  patch_images/2021.01.06/LBC37-20210102(1)/LBC3...   [ASCUS] LBC37  ASC-US   \n",
       "\n",
       "   xmin  ymin    w    h  occluded  des  \\\n",
       "0   349  1080  174  161         0  NaN   \n",
       "1   267   711  161  124         0  NaN   \n",
       "2   202   970  131  176         0  NaN   \n",
       "3  1349   420  100  113         0  NaN   \n",
       "4  1575   720  163  213         0  NaN   \n",
       "\n",
       "                                           cell_type                   bbox  \\\n",
       "0  Atypical squamous cells of undetermined signif...  [349, 1080, 174, 161]   \n",
       "1  Atypical squamous cells of undetermined signif...   [267, 711, 161, 124]   \n",
       "2  Atypical squamous cells of undetermined signif...   [202, 970, 131, 176]   \n",
       "3  Atypical squamous cells of undetermined signif...  [1349, 420, 100, 113]   \n",
       "4  Atypical squamous cells of undetermined signif...  [1575, 720, 163, 213]   \n",
       "\n",
       "   diag  ID  label_id  \n",
       "0   237   8  abnormal  \n",
       "1   203   9  abnormal  \n",
       "2   219  10  abnormal  \n",
       "3   150  11  abnormal  \n",
       "4   268  12  abnormal  "
      ]
     },
     "execution_count": 5,
     "metadata": {},
     "output_type": "execute_result"
    }
   ],
   "source": [
    "train_df.head()"
   ]
  },
  {
   "cell_type": "code",
   "execution_count": 6,
   "id": "a7b4b687-6673-44fa-9cba-c49f0edb1407",
   "metadata": {},
   "outputs": [
    {
     "data": {
      "text/plain": [
       "AS                           4455\n",
       "LS                           1869\n",
       "ASC-US                       1831\n",
       "ASC-US with HPV infection    1429\n",
       "LSIL                         1361\n",
       "AH                            848\n",
       "HS                            579\n",
       "LSIL with HPV infection       404\n",
       "HSIL                          374\n",
       "N - Endocervical Cell         268\n",
       "ASC-H                         190\n",
       "HN                            102\n",
       "HSIL with HPV infection        90\n",
       "Carcinoma                      18\n",
       "H                               9\n",
       "SC                              1\n",
       "ASC-H with HPV infection        1\n",
       "Name: label, dtype: int64"
      ]
     },
     "execution_count": 6,
     "metadata": {},
     "output_type": "execute_result"
    }
   ],
   "source": [
    "train_df.label.value_counts()"
   ]
  },
  {
   "cell_type": "code",
   "execution_count": 7,
   "id": "33454f69-d737-443e-b782-ba6f9796e3d6",
   "metadata": {},
   "outputs": [
    {
     "data": {
      "text/plain": [
       "1"
      ]
     },
     "execution_count": 7,
     "metadata": {},
     "output_type": "execute_result"
    }
   ],
   "source": [
    "len(train_df.label_id.unique())"
   ]
  },
  {
   "cell_type": "code",
   "execution_count": 8,
   "id": "d007285a-3228-4544-b41e-9d2a409cf968",
   "metadata": {},
   "outputs": [
    {
     "name": "stdout",
     "output_type": "stream",
     "text": [
      "['ASC-US' 'LSIL' 'HSIL' 'ASC-H' 'N - Endocervical Cell' 'Carcinoma'\n",
      " 'Benign']\n",
      "[0 1 2 4 5]\n",
      "(12790, 15)\n"
     ]
    }
   ],
   "source": [
    "train_dataset = PapsDataset(train_df, defaultpath='../lbp_data/', transform=train_transforms)"
   ]
  },
  {
   "cell_type": "code",
   "execution_count": 9,
   "id": "c5b18429-a6bd-4beb-956c-be37fdc7977b",
   "metadata": {},
   "outputs": [
    {
     "name": "stdout",
     "output_type": "stream",
     "text": [
      "../lbp_data/patch_images/2021.05.11/LBC573-20210113(1)/LBC573-20210113(1)_1891.png\n"
     ]
    },
    {
     "data": {
      "text/plain": [
       "torch.Size([3, 224, 224])"
      ]
     },
     "execution_count": 9,
     "metadata": {},
     "output_type": "execute_result"
    }
   ],
   "source": [
    "images, labels = next(iter(train_dataset))\n",
    "images.shape"
   ]
  },
  {
   "cell_type": "code",
   "execution_count": 10,
   "id": "5d48685a-5383-45f2-87ee-c4e9664d891c",
   "metadata": {},
   "outputs": [
    {
     "data": {
      "text/plain": [
       "0    7715\n",
       "1    3634\n",
       "2    1145\n",
       "4    1039\n",
       "5     296\n",
       "Name: label, dtype: int64"
      ]
     },
     "execution_count": 10,
     "metadata": {},
     "output_type": "execute_result"
    }
   ],
   "source": [
    "train_df.label.value_counts()"
   ]
  },
  {
   "cell_type": "code",
   "execution_count": 11,
   "id": "6e4f6b6b-02eb-472f-bf34-8b4568fdf256",
   "metadata": {},
   "outputs": [
    {
     "data": {
      "text/html": [
       "<div>\n",
       "<style scoped>\n",
       "    .dataframe tbody tr th:only-of-type {\n",
       "        vertical-align: middle;\n",
       "    }\n",
       "\n",
       "    .dataframe tbody tr th {\n",
       "        vertical-align: top;\n",
       "    }\n",
       "\n",
       "    .dataframe thead th {\n",
       "        text-align: right;\n",
       "    }\n",
       "</style>\n",
       "<table border=\"1\" class=\"dataframe\">\n",
       "  <thead>\n",
       "    <tr style=\"text-align: right;\">\n",
       "      <th></th>\n",
       "      <th>file_name</th>\n",
       "      <th>task</th>\n",
       "      <th>label</th>\n",
       "      <th>xmin</th>\n",
       "      <th>ymin</th>\n",
       "      <th>w</th>\n",
       "      <th>h</th>\n",
       "      <th>occluded</th>\n",
       "      <th>des</th>\n",
       "      <th>cell_type</th>\n",
       "      <th>bbox</th>\n",
       "      <th>diag</th>\n",
       "      <th>ID</th>\n",
       "      <th>label_id</th>\n",
       "    </tr>\n",
       "  </thead>\n",
       "  <tbody>\n",
       "    <tr>\n",
       "      <th>0</th>\n",
       "      <td>patch_images/2021.05.11/LBC573-20210113(1)/LBC...</td>\n",
       "      <td>[ASCUS] LBC573</td>\n",
       "      <td>0</td>\n",
       "      <td>349</td>\n",
       "      <td>1080</td>\n",
       "      <td>174</td>\n",
       "      <td>161</td>\n",
       "      <td>0</td>\n",
       "      <td>NaN</td>\n",
       "      <td>Atypical squamous cells of undetermined signif...</td>\n",
       "      <td>[349, 1080, 174, 161]</td>\n",
       "      <td>237</td>\n",
       "      <td>8</td>\n",
       "      <td>abnormal</td>\n",
       "    </tr>\n",
       "    <tr>\n",
       "      <th>1</th>\n",
       "      <td>patch_images/2021.05.11/LBC573-20210113(1)/LBC...</td>\n",
       "      <td>[ASCUS] LBC573</td>\n",
       "      <td>0</td>\n",
       "      <td>267</td>\n",
       "      <td>711</td>\n",
       "      <td>161</td>\n",
       "      <td>124</td>\n",
       "      <td>0</td>\n",
       "      <td>NaN</td>\n",
       "      <td>Atypical squamous cells of undetermined signif...</td>\n",
       "      <td>[267, 711, 161, 124]</td>\n",
       "      <td>203</td>\n",
       "      <td>9</td>\n",
       "      <td>abnormal</td>\n",
       "    </tr>\n",
       "    <tr>\n",
       "      <th>2</th>\n",
       "      <td>patch_images/2021.05.11/LBC573-20210113(1)/LBC...</td>\n",
       "      <td>[ASCUS] LBC573</td>\n",
       "      <td>0</td>\n",
       "      <td>202</td>\n",
       "      <td>970</td>\n",
       "      <td>131</td>\n",
       "      <td>176</td>\n",
       "      <td>0</td>\n",
       "      <td>NaN</td>\n",
       "      <td>Atypical squamous cells of undetermined signif...</td>\n",
       "      <td>[202, 970, 131, 176]</td>\n",
       "      <td>219</td>\n",
       "      <td>10</td>\n",
       "      <td>abnormal</td>\n",
       "    </tr>\n",
       "    <tr>\n",
       "      <th>3</th>\n",
       "      <td>patch_images/2021.01.06/LBC37-20210102(1)/LBC3...</td>\n",
       "      <td>[ASCUS] LBC37</td>\n",
       "      <td>0</td>\n",
       "      <td>1349</td>\n",
       "      <td>420</td>\n",
       "      <td>100</td>\n",
       "      <td>113</td>\n",
       "      <td>0</td>\n",
       "      <td>NaN</td>\n",
       "      <td>Atypical squamous cells of undetermined signif...</td>\n",
       "      <td>[1349, 420, 100, 113]</td>\n",
       "      <td>150</td>\n",
       "      <td>11</td>\n",
       "      <td>abnormal</td>\n",
       "    </tr>\n",
       "    <tr>\n",
       "      <th>4</th>\n",
       "      <td>patch_images/2021.01.06/LBC37-20210102(1)/LBC3...</td>\n",
       "      <td>[ASCUS] LBC37</td>\n",
       "      <td>0</td>\n",
       "      <td>1575</td>\n",
       "      <td>720</td>\n",
       "      <td>163</td>\n",
       "      <td>213</td>\n",
       "      <td>0</td>\n",
       "      <td>NaN</td>\n",
       "      <td>Atypical squamous cells of undetermined signif...</td>\n",
       "      <td>[1575, 720, 163, 213]</td>\n",
       "      <td>268</td>\n",
       "      <td>12</td>\n",
       "      <td>abnormal</td>\n",
       "    </tr>\n",
       "  </tbody>\n",
       "</table>\n",
       "</div>"
      ],
      "text/plain": [
       "                                           file_name            task  label  \\\n",
       "0  patch_images/2021.05.11/LBC573-20210113(1)/LBC...  [ASCUS] LBC573      0   \n",
       "1  patch_images/2021.05.11/LBC573-20210113(1)/LBC...  [ASCUS] LBC573      0   \n",
       "2  patch_images/2021.05.11/LBC573-20210113(1)/LBC...  [ASCUS] LBC573      0   \n",
       "3  patch_images/2021.01.06/LBC37-20210102(1)/LBC3...   [ASCUS] LBC37      0   \n",
       "4  patch_images/2021.01.06/LBC37-20210102(1)/LBC3...   [ASCUS] LBC37      0   \n",
       "\n",
       "   xmin  ymin    w    h  occluded  des  \\\n",
       "0   349  1080  174  161         0  NaN   \n",
       "1   267   711  161  124         0  NaN   \n",
       "2   202   970  131  176         0  NaN   \n",
       "3  1349   420  100  113         0  NaN   \n",
       "4  1575   720  163  213         0  NaN   \n",
       "\n",
       "                                           cell_type                   bbox  \\\n",
       "0  Atypical squamous cells of undetermined signif...  [349, 1080, 174, 161]   \n",
       "1  Atypical squamous cells of undetermined signif...   [267, 711, 161, 124]   \n",
       "2  Atypical squamous cells of undetermined signif...   [202, 970, 131, 176]   \n",
       "3  Atypical squamous cells of undetermined signif...  [1349, 420, 100, 113]   \n",
       "4  Atypical squamous cells of undetermined signif...  [1575, 720, 163, 213]   \n",
       "\n",
       "   diag  ID  label_id  \n",
       "0   237   8  abnormal  \n",
       "1   203   9  abnormal  \n",
       "2   219  10  abnormal  \n",
       "3   150  11  abnormal  \n",
       "4   268  12  abnormal  "
      ]
     },
     "execution_count": 11,
     "metadata": {},
     "output_type": "execute_result"
    }
   ],
   "source": [
    "train_df.head()"
   ]
  },
  {
   "cell_type": "code",
   "execution_count": 12,
   "id": "4a3cfe82-3c4f-4e4b-a5ea-68c480e929cb",
   "metadata": {},
   "outputs": [
    {
     "data": {
      "text/plain": [
       "nan"
      ]
     },
     "execution_count": 12,
     "metadata": {},
     "output_type": "execute_result"
    }
   ],
   "source": [
    "train_df.iloc[0, 8]"
   ]
  },
  {
   "cell_type": "code",
   "execution_count": 13,
   "id": "d04aff04-9177-4916-a3ee-353ee6bb53ad",
   "metadata": {},
   "outputs": [
    {
     "data": {
      "text/plain": [
       "array([0, 1, 2, 5])"
      ]
     },
     "execution_count": 13,
     "metadata": {},
     "output_type": "execute_result"
    }
   ],
   "source": [
    "train_dataset.df.label.unique()"
   ]
  },
  {
   "cell_type": "code",
   "execution_count": null,
   "id": "2954b891-d548-4d84-9ce4-4a72c8674fc5",
   "metadata": {},
   "outputs": [],
   "source": []
  },
  {
   "cell_type": "code",
   "execution_count": null,
   "id": "4ad5b059-f1d8-4874-a09a-a60a422edd6c",
   "metadata": {},
   "outputs": [],
   "source": []
  },
  {
   "cell_type": "code",
   "execution_count": 14,
   "id": "17092547-234f-4be8-b911-fadb15dfc2f4",
   "metadata": {},
   "outputs": [],
   "source": [
    "from pytorch_lightning import LightningDataModule\n",
    "class PapsDataModule(LightningDataModule):\n",
    "    def __init__(self, data_dir: str = '../lbp_data/'):\n",
    "        super().__init__()\n",
    "        self.data_dir = data_dir\n",
    "        self.train_transform = train_transforms\n",
    "        self.test_transform = test_transforms\n",
    "\n",
    "        # self.dims is returned when you call dm.size()\n",
    "        # Setting default dims here because we know them.\n",
    "        # Could optionally be assigned dynamically in dm.setup()\n",
    "        self.dims = (1, 28, 28)\n",
    "        self.num_classes = 5\n",
    "\n",
    "    def prepare_data(self):\n",
    "        # download\n",
    "        pass\n",
    "\n",
    "    def setup(self, stage=None):\n",
    "\n",
    "        # Assign train/val datasets for use in dataloaders\n",
    "        if stage == \"fit\" or stage is None:\n",
    "            train_df = pd.read_csv(self.data_dir + 'train.csv')\n",
    "            self.train_dataset = PapsDataset(train_df, defaultpath=self.data_dir, transform=self.train_transforms)\n",
    "\n",
    "        # Assign test dataset for use in dataloader(s)\n",
    "        if stage == \"test\" or stage is None:\n",
    "            test_df = pd.read_csv(self.data_dir + 'test.csv')\n",
    "            self.test_dataset = PapsDataset(test_df, defaultpath=self.data_dir, transform=self.test_transforms)\n",
    "\n",
    "    def train_dataloader(self):\n",
    "        return DataLoader(self.train_dataset, batch_size=BATCH_SIZE)\n",
    "\n",
    "    def val_dataloader(self):\n",
    "        return DataLoader(self.test_dataset, batch_size=BATCH_SIZE)\n",
    "\n",
    "    def test_dataloader(self):\n",
    "        return DataLoader(self.test_dataset, batch_size=BATCH_SIZE)"
   ]
  },
  {
   "cell_type": "code",
   "execution_count": null,
   "id": "1a017ec7-c1b5-4cf7-9418-5b63e59d6c10",
   "metadata": {},
   "outputs": [],
   "source": []
  }
 ],
 "metadata": {
  "kernelspec": {
   "display_name": "pytorch",
   "language": "python",
   "name": "pytorch"
  },
  "language_info": {
   "codemirror_mode": {
    "name": "ipython",
    "version": 3
   },
   "file_extension": ".py",
   "mimetype": "text/x-python",
   "name": "python",
   "nbconvert_exporter": "python",
   "pygments_lexer": "ipython3",
   "version": "3.7.9"
  }
 },
 "nbformat": 4,
 "nbformat_minor": 5
}
