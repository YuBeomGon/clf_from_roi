{
 "cells": [
  {
   "cell_type": "code",
   "execution_count": null,
   "id": "6f7d7488-45ce-4ee0-a93d-7c78cf536553",
   "metadata": {},
   "outputs": [],
   "source": []
  },
  {
   "cell_type": "code",
   "execution_count": 33,
   "id": "1de9348a-12e1-431e-a5ee-8282d69b36b7",
   "metadata": {},
   "outputs": [
    {
     "data": {
      "text/plain": [
       "tensor(0.7389)"
      ]
     },
     "execution_count": 33,
     "metadata": {},
     "output_type": "execute_result"
    }
   ],
   "source": [
    "import torch\n",
    "from torchmetrics import Specificity, F1Score, Accuracy\n",
    "preds  = torch.tensor([2, 0, 2,2,2, 1])\n",
    "target = torch.tensor([1, 1, 2,2,2, 0])\n",
    "# specificity = Specificity(average='macro', num_classes=3)\n",
    "f1 = F1Score(average='macro',num_classes=3)\n",
    "acc = Accuracy(average='macro',num_classes=3)\n",
    "specificity(preds, target)\n",
    "\n",
    "specificity = Specificity(average='macro', num_classes=3)\n",
    "specificity(preds, target)"
   ]
  },
  {
   "cell_type": "code",
   "execution_count": 25,
   "id": "90756141-e372-4c9c-9eac-766b17ef9553",
   "metadata": {},
   "outputs": [
    {
     "data": {
      "text/plain": [
       "tensor(0.2857)"
      ]
     },
     "execution_count": 25,
     "metadata": {},
     "output_type": "execute_result"
    }
   ],
   "source": [
    "f1(preds, target)"
   ]
  },
  {
   "cell_type": "code",
   "execution_count": 28,
   "id": "1df000ed-8c6a-4c24-92e3-15a80b5558ea",
   "metadata": {},
   "outputs": [
    {
     "data": {
      "text/plain": [
       "tensor(0.3333)"
      ]
     },
     "execution_count": 28,
     "metadata": {},
     "output_type": "execute_result"
    }
   ],
   "source": [
    "acc(preds, target)"
   ]
  },
  {
   "cell_type": "code",
   "execution_count": 23,
   "id": "48537799-b52d-42f6-81f5-058340bc7a6c",
   "metadata": {},
   "outputs": [
    {
     "data": {
      "text/plain": [
       "0.2857142857142857"
      ]
     },
     "execution_count": 23,
     "metadata": {},
     "output_type": "execute_result"
    }
   ],
   "source": [
    "from sklearn.metrics import f1_score\n",
    "f1 = f1_score(target, preds, average='macro')\n",
    "f1"
   ]
  },
  {
   "cell_type": "code",
   "execution_count": 26,
   "id": "8d0d6483-c085-4bb2-867c-3584adf86367",
   "metadata": {},
   "outputs": [
    {
     "data": {
      "text/plain": [
       "0.25"
      ]
     },
     "execution_count": 26,
     "metadata": {},
     "output_type": "execute_result"
    }
   ],
   "source": [
    "(0.75)/3"
   ]
  },
  {
   "cell_type": "code",
   "execution_count": 39,
   "id": "644f3d38-cf75-4e0f-938b-7f7d3d0a733d",
   "metadata": {},
   "outputs": [
    {
     "data": {
      "text/plain": [
       "tensor(0.5000)"
      ]
     },
     "execution_count": 39,
     "metadata": {},
     "output_type": "execute_result"
    }
   ],
   "source": [
    "import torch\n",
    "from  torchmetrics.functional import retrieval_recall\n",
    "preds = torch.tensor([0.2, 0.3, 0.5])\n",
    "target = torch.tensor([True, False, True])\n",
    "# preds  = torch.tensor([2, 0, 2,2,2, 1])\n",
    "# target = torch.tensor([1, 1, 2,2,2, 0])\n",
    "retrieval_recall(preds, target, k=2)\n"
   ]
  },
  {
   "cell_type": "code",
   "execution_count": 43,
   "id": "1cdd6712-a19f-49b4-be53-b3bf7132ca20",
   "metadata": {},
   "outputs": [
    {
     "name": "stdout",
     "output_type": "stream",
     "text": [
      "0.3333333333333333\n",
      "0.3333333333333333\n",
      "0.3333333333333333\n"
     ]
    }
   ],
   "source": [
    "from sklearn.metrics import recall_score\n",
    "y_true = [0, 1, 2, 0, 1, 2]\n",
    "y_pred = [0, 2, 1, 0, 0, 1]\n",
    "preds  = torch.tensor([2, 0, 2,2,2, 1])\n",
    "target = torch.tensor([1, 1, 2,2,2, 0])\n",
    "print(recall_score(y_true, y_pred, average='macro'))\n",
    "print(recall_score(y_true, y_pred, average='micro'))\n",
    "print(recall_score(y_true, y_pred, average='weighted'))"
   ]
  },
  {
   "cell_type": "code",
   "execution_count": null,
   "id": "249ea49b-f79a-4580-9c05-46e1f5321f90",
   "metadata": {},
   "outputs": [],
   "source": []
  },
  {
   "cell_type": "code",
   "execution_count": null,
   "id": "e850b580-d888-4698-9362-91e9ad5962a5",
   "metadata": {},
   "outputs": [],
   "source": [
    "\n",
    ">>> recall_score(y_true, y_pred, average='micro')\n",
    "0.33...\n",
    ">>> recall_score(y_true, y_pred, average='weighted')\n",
    "0.33...\n",
    ">>> recall_score(y_true, y_pred, average=None)\n",
    "array([1., 0., 0.])\n",
    ">>> y_true = [0, 0, 0, 0, 0, 0]\n",
    ">>> recall_score(y_true, y_pred, average=None)\n",
    "array([0.5, 0. , 0. ])\n",
    ">>> recall_score(y_true, y_pred, average=None, zero_division=1)\n",
    "array([0.5, 1. , 1. ])\n",
    ">>> # multilabel classification\n",
    ">>> y_true = [[0, 0, 0], [1, 1, 1], [0, 1, 1]]\n",
    ">>> y_pred = [[0, 0, 0], [1, 1, 1], [1, 1, 0]]\n",
    ">>> recall_score(y_true, y_pred, average=None)\n",
    "array([1. , 1. , 0.5])"
   ]
  }
 ],
 "metadata": {
  "kernelspec": {
   "display_name": "pytorch",
   "language": "python",
   "name": "pytorch"
  },
  "language_info": {
   "codemirror_mode": {
    "name": "ipython",
    "version": 3
   },
   "file_extension": ".py",
   "mimetype": "text/x-python",
   "name": "python",
   "nbconvert_exporter": "python",
   "pygments_lexer": "ipython3",
   "version": "3.7.9"
  }
 },
 "nbformat": 4,
 "nbformat_minor": 5
}
